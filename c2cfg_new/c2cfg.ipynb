{
 "cells": [
  {
   "cell_type": "code",
   "execution_count": 1,
   "metadata": {},
   "outputs": [],
   "source": [
    "import pathlib, glob, time, subprocess\n",
    "import pandas as pd\n",
    "from pathlib import Path\n",
    "from tqdm import tqdm\n",
    "import networkx as nx\n",
    "import pygraphviz\n",
    "import scipy.sparse as sp\n",
    "import numpy as np\n",
    "\n",
    "\n",
    "graph_type = 'cfg'\n",
    "path_code = pathlib.Path('dataset1/')                       \n",
    "joern_path =  str(Path.home())+'/joern-cli/'"
   ]
  },
  {
   "cell_type": "code",
   "execution_count": 102,
   "metadata": {},
   "outputs": [
    {
     "name": "stderr",
     "output_type": "stream",
     "text": [
      "\r",
      "  0%|          | 0/4 [00:00<?, ?it/s]"
     ]
    },
    {
     "name": "stdout",
     "output_type": "stream",
     "text": [
      "dataset1/negative\n"
     ]
    },
    {
     "name": "stderr",
     "output_type": "stream",
     "text": [
      "\n",
      "  0%|          | 0/5 [00:00<?, ?it/s]\u001b[A\n",
      "100%|██████████| 5/5 [00:00<00:00, 46.71it/s]\u001b[A\n",
      " 25%|██▌       | 1/4 [00:00<00:00,  8.34it/s]"
     ]
    },
    {
     "name": "stdout",
     "output_type": "stream",
     "text": [
      "--- 0.0019472360610961914 miuntes ---\n",
      "dataset1/positive\n"
     ]
    },
    {
     "name": "stderr",
     "output_type": "stream",
     "text": [
      "\n",
      "  0%|          | 0/5 [00:00<?, ?it/s]\u001b[A\n",
      "100%|██████████| 5/5 [00:00<00:00, 42.32it/s]\u001b[A\n",
      "100%|██████████| 4/4 [00:00<00:00, 15.52it/s]"
     ]
    },
    {
     "name": "stdout",
     "output_type": "stream",
     "text": [
      "--- 0.0021741628646850587 miuntes ---\n"
     ]
    },
    {
     "name": "stderr",
     "output_type": "stream",
     "text": [
      "\n"
     ]
    }
   ],
   "source": [
    "# iterate over each group/project\n",
    "for folder in tqdm(glob.glob('{}/*'.format(path_code))):\n",
    "    if graph_type not in folder:\n",
    "        print(folder)\n",
    "        path_group = pathlib.Path('{}_{}'.format(folder,graph_type))         #make folder for the dataset\n",
    "        path_group.mkdir(parents=True, exist_ok=True)\n",
    "    \n",
    "        start_time = time.time()\n",
    "\n",
    "        project = glob.glob(folder+'/*')                  #get all .c files we just generated\n",
    "\n",
    "        for path_src in tqdm(project):\n",
    "            src_file      = str(Path(path_src).resolve())\n",
    "            out_path      = str(Path(str(path_group)+'/'+path_src.split('/')[-1].replace('_c.c','')).resolve())+\"/\"\n",
    "            file_dir      = pathlib.Path(str(Path(str(path_group)+'/'+path_src.split('/')[-1].replace('_c.c','')).resolve())+\"/\")         #make folder for the dataset\n",
    "            file_dir.mkdir(parents=True, exist_ok=True)\n",
    "\n",
    "            cpg_path_cmd  = [joern_path+\"./joern-parse\",src_file,\"--out\",out_path+src_file.split(\"/\")[-1].replace(\"_c.c\",\"\")+\".cpg\"]\n",
    "            graph_out_cmd = [joern_path+\"/joern-export\",out_path+src_file.split(\"/\")[-1].replace(\"_c.c\",\"\")+'.cpg',\"--repr\",graph_type,'--out',out_path+'/cfg/']\n",
    "            cpg_check     = Path(out_path+src_file.split(\"/\")[-1].replace(\"_c.c\",\"\")+\".cpg\").is_file()\n",
    "\n",
    "            if cpg_check and not Path(out_path+'cfg/').is_dir():\n",
    "                result = subprocess.call(graph_out_cmd,stderr=subprocess.DEVNULL, stdout=subprocess.DEVNULL)\n",
    "\n",
    "            # check if CFG and both CPG are present if true nothing will be generated\n",
    "            elif cpg_check and Path(out_path+'cfg/').is_dir():\n",
    "                pass\n",
    "\n",
    "            else:\n",
    "            #if both of them all false compute CPG and generate CFG \n",
    "                result = subprocess.call(cpg_path_cmd,stderr=subprocess.DEVNULL, stdout=subprocess.DEVNULL)\n",
    "\n",
    "                result1 = subprocess.call(graph_out_cmd, stderr=subprocess.DEVNULL, stdout=subprocess.DEVNULL)\n",
    "\n",
    "        print(\"--- %s miuntes ---\" % ((time.time() - start_time)/60))\n",
    "        "
   ]
  },
  {
   "cell_type": "markdown",
   "metadata": {},
   "source": [
    "## Do not run this code (it runs only on a single folder)"
   ]
  },
  {
   "cell_type": "code",
   "execution_count": null,
   "metadata": {},
   "outputs": [],
   "source": [
    "folder  = 'dataset1/negative'\n",
    "\n",
    "print(folder)\n",
    "path_group = pathlib.Path('{}_{}'.format(folder,graph_type))         #make folder for the dataset\n",
    "path_group.mkdir(parents=True, exist_ok=True)\n",
    "\n",
    "start_time = time.time()\n",
    "\n",
    "project = glob.glob(folder+'/*')                  #get all .c files we just generated\n",
    "\n",
    "for path_src in tqdm(project):\n",
    "    src_file      = str(Path(path_src).resolve())\n",
    "    out_path      = str(Path(str(path_group)+'/'+path_src.split('/')[-1].replace('_c.c','')).resolve())+\"/\"\n",
    "    file_dir      = pathlib.Path(str(Path(str(path_group)+'/'+path_src.split('/')[-1].replace('_c.c','')).resolve())+\"/\")         #make folder for the dataset\n",
    "    file_dir.mkdir(parents=True, exist_ok=True)\n",
    "\n",
    "    cpg_path_cmd  = [joern_path+\"./joern-parse\",src_file,\"--out\",out_path+src_file.split(\"/\")[-1].replace(\"_c.c\",\"\")+\".cpg\"]\n",
    "    graph_out_cmd = [joern_path+\"/joern-export\",out_path+src_file.split(\"/\")[-1].replace(\"_c.c\",\"\")+'.cpg',\"--repr\",graph_type,'--out',out_path+'/cfg/']\n",
    "    cpg_check     = Path(out_path+src_file.split(\"/\")[-1].replace(\"_c.c\",\"\")+\".cpg\").is_file()\n",
    "\n",
    "    if cpg_check and not Path(out_path+'cfg/').is_dir():\n",
    "        result = subprocess.call(graph_out_cmd,stderr=subprocess.DEVNULL, stdout=subprocess.DEVNULL)\n",
    "\n",
    "    # check if CFG and both CPG are present if true nothing will be generated\n",
    "    elif cpg_check and Path(out_path+'cfg/').is_dir():\n",
    "        pass\n",
    "\n",
    "    else:\n",
    "    #if both of them all false compute CPG and generate CFG \n",
    "        result = subprocess.call(cpg_path_cmd,stderr=subprocess.DEVNULL, stdout=subprocess.DEVNULL)\n",
    "\n",
    "        result1 = subprocess.call(graph_out_cmd, stderr=subprocess.DEVNULL, stdout=subprocess.DEVNULL)\n",
    "\n",
    "print(\"--- %s miuntes ---\" % ((time.time() - start_time)/60))\n",
    "        "
   ]
  }
 ],
 "metadata": {
  "kernelspec": {
   "display_name": "Python 3",
   "language": "python",
   "name": "python3"
  },
  "language_info": {
   "codemirror_mode": {
    "name": "ipython",
    "version": 3
   },
   "file_extension": ".py",
   "mimetype": "text/x-python",
   "name": "python",
   "nbconvert_exporter": "python",
   "pygments_lexer": "ipython3",
   "version": "3.8.10"
  }
 },
 "nbformat": 4,
 "nbformat_minor": 4
}
