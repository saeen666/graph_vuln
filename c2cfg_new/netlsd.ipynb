{
 "cells": [
  {
   "cell_type": "code",
   "execution_count": null,
   "id": "fc72f7d8",
   "metadata": {},
   "outputs": [],
   "source": [
    "\n",
    "iterables = [ ['heat', 'wave'], ['complete', None, 'empty'] ]  \n",
    "for t in itertools.product(*iterables):\n",
    "    print(t)\n",
    "    for file_name in ['PTC_MR']:\n",
    "        graph_list, data_y, data_nodes  = return_dataset(file_name)\n",
    "        feature_matrix = []\n",
    "        for A in graph_list:\n",
    "            feature_matrix.append(netlsd.netlsd(A, kernel=t[0], eigenvalues='full', normalization=t[1], normalized_laplacian=False))\n",
    "        np.savetxt(file_name+\"_\"+t[0]+\"_\"+str(t[1])+\"_NETLSD.txt\",feature_matrix,delimiter=',')"
   ]
  },
  {
   "cell_type": "code",
   "execution_count": 9,
   "id": "4f6595cc",
   "metadata": {},
   "outputs": [],
   "source": [
    "#import igraph\n",
    "from sklearn.ensemble import RandomForestClassifier\n",
    "import pickle, netlsd, itertools\n",
    "import pandas as pd\n",
    "import numpy as np\n",
    "from scipy import sparse\n",
    "from sklearn.utils import shuffle\n",
    "np.random.seed(1656) \n",
    "from sklearn.svm import SVC\n",
    "from sklearn.ensemble import RandomForestClassifier\n",
    "from sklearn.model_selection import StratifiedKFold, GridSearchCV\n",
    "import pickle\n",
    "import networkx as nx"
   ]
  },
  {
   "cell_type": "code",
   "execution_count": 4,
   "id": "a77e945e",
   "metadata": {},
   "outputs": [],
   "source": [
    "data = pd.read_pickle('new_data_nx')"
   ]
  },
  {
   "cell_type": "code",
   "execution_count": 32,
   "id": "b059db59",
   "metadata": {},
   "outputs": [],
   "source": [
    "data_X = data['graph'].apply(lambda x: netlsd.netlsd(nx.adjacency_matrix(x).todense(), kernel='heat', eigenvalues='full', normalization='complete', normalized_laplacian=False))\n",
    "data_y = data['target'].values"
   ]
  },
  {
   "cell_type": "code",
   "execution_count": 38,
   "id": "27a52fd0",
   "metadata": {},
   "outputs": [],
   "source": [
    "data_X = data_X.values"
   ]
  },
  {
   "cell_type": "code",
   "execution_count": 58,
   "id": "425a2134",
   "metadata": {},
   "outputs": [],
   "source": [
    "data_X1 = [np.nan_to_num(np.array(i), nan=0, posinf=0, neginf=0) for i in data_X]"
   ]
  },
  {
   "cell_type": "code",
   "execution_count": 62,
   "id": "2a18716e",
   "metadata": {},
   "outputs": [],
   "source": [
    "from sklearn import preprocessing\n",
    "min_max_scaler = preprocessing.MinMaxScaler()\n",
    "data_X1 = min_max_scaler.fit_transform(data_X1)"
   ]
  },
  {
   "cell_type": "code",
   "execution_count": 54,
   "id": "8ccc0b88",
   "metadata": {},
   "outputs": [],
   "source": [
    "data_X = list([list(i) for i in data_X])"
   ]
  },
  {
   "cell_type": "code",
   "execution_count": 63,
   "id": "896171f1",
   "metadata": {},
   "outputs": [
    {
     "name": "stdout",
     "output_type": "stream",
     "text": [
      "Fitting 3 folds for each of 6 candidates, totalling 18 fits\n",
      "[0.4282752  0.42975635 0.42960824 0.43049693 0.429312   0.4287936 ]\n",
      "********************\n",
      "[0.0081011  0.00932303 0.00888938 0.00878512 0.00808077 0.00897718]\n",
      "********************\n",
      "max:  0.43049692660890176\n",
      "************************* \n",
      "\n",
      "\n",
      "[CV 2/3] END max_features=sqrt, min_samples_split=3, n_estimators=100;, score=0.420 total time=   8.2s\n",
      "[CV 1/3] END max_features=sqrt, min_samples_split=4, n_estimators=100;, score=0.443 total time=   7.4s\n",
      "[CV 3/3] END max_features=sqrt, min_samples_split=4, n_estimators=100;, score=0.426 total time=   9.9s\n",
      "[CV 2/3] END max_features=sqrt, min_samples_split=4, n_estimators=500;, score=0.420 total time=  46.5s\n",
      "[CV 1/3] END max_features=sqrt, min_samples_split=3, n_estimators=1000;, score=0.441 total time= 1.2min\n",
      "[CV 1/3] END max_features=sqrt, min_samples_split=3, n_estimators=500;, score=0.442 total time=  35.8s\n",
      "[CV 3/3] END max_features=sqrt, min_samples_split=4, n_estimators=500;, score=0.429 total time=  43.6s\n",
      "[CV 2/3] END max_features=sqrt, min_samples_split=3, n_estimators=1000;, score=0.419 total time= 1.4min\n",
      "[CV 1/3] END max_features=sqrt, min_samples_split=3, n_estimators=100;, score=0.439 total time=   6.6s\n",
      "[CV 3/3] END max_features=sqrt, min_samples_split=3, n_estimators=1000;, score=0.429 total time= 1.3min\n",
      "[CV 3/3] END max_features=sqrt, min_samples_split=3, n_estimators=500;, score=0.428 total time=  42.3s\n",
      "[CV 1/3] END max_features=sqrt, min_samples_split=4, n_estimators=1000;, score=0.441 total time=  54.9s\n",
      "[CV 2/3] END max_features=sqrt, min_samples_split=3, n_estimators=500;, score=0.419 total time=  42.4s\n",
      "[CV 2/3] END max_features=sqrt, min_samples_split=4, n_estimators=1000;, score=0.419 total time=  57.3s\n",
      "[CV 3/3] END max_features=sqrt, min_samples_split=3, n_estimators=100;, score=0.426 total time=   8.3s\n",
      "[CV 2/3] END max_features=sqrt, min_samples_split=4, n_estimators=100;, score=0.423 total time=   9.1s\n",
      "[CV 1/3] END max_features=sqrt, min_samples_split=4, n_estimators=500;, score=0.439 total time=  39.3s\n",
      "[CV 3/3] END max_features=sqrt, min_samples_split=4, n_estimators=1000;, score=0.427 total time=  45.4s\n"
     ]
    }
   ],
   "source": [
    "def return_grid_search_random_forest():\n",
    "    return RandomForestClassifier(n_estimators=500, \n",
    "                        min_samples_leaf=1, \n",
    "                            min_weight_fraction_leaf=0.0, max_features=None, max_leaf_nodes=None, bootstrap=True, \n",
    "                                oob_score=False, n_jobs=8, random_state=666, verbose=0, warm_start=False,\n",
    "                                    max_depth = None,class_weight=\"balanced_subsample\")\n",
    "\n",
    "\n",
    "#graph_list, data_y, data_nodes  = return_dataset('NCI1')\n",
    "kf = StratifiedKFold(n_splits=3, shuffle=True, random_state = 42)\n",
    "estimator  = RandomForestClassifier(criterion='gini', max_depth=None, min_samples_leaf=1, min_weight_fraction_leaf=0.0,\n",
    "                                        max_leaf_nodes=None, min_impurity_decrease=0.0, bootstrap=True, \n",
    "                                        oob_score=False, n_jobs=8, random_state=666, verbose=0, warm_start=False,\n",
    "                                        class_weight=None)\n",
    "\n",
    "param_grid = {'n_estimators':[100,500,1000], 'max_features':['sqrt'], 'min_samples_split':[3,4]}\n",
    "\n",
    "grid_rf    = GridSearchCV(estimator, param_grid, scoring=None, n_jobs=8,\n",
    "                    refit=True, cv=kf, verbose=3, pre_dispatch='2*n_jobs')\n",
    "\n",
    "#print(data_X.shape)\n",
    "grid_rf.fit(data_X1, data_y)\n",
    "#grid_rf.cv_results_['mean_test_score']\n",
    "#Pipeline2 = Pipeline([('drop_empty_column', dropCols(frac=1.0)),('grid_rf', grid_rf)])\n",
    "#res = Pipeline2.fit(data_X, data_y)\n",
    "print( grid_rf.cv_results_['mean_test_score'])\n",
    "print('*'*20)\n",
    "print(grid_rf.cv_results_['std_test_score'])\n",
    "print('*'*20)\n",
    "print('max: ',max( grid_rf.cv_results_['mean_test_score']))\n",
    "print('*'*25, '\\n\\n')\n",
    "#print(np.concatenate(feature_matrix).ravel().max())\n",
    "#c = sparse.vstack(feature_matrix)"
   ]
  },
  {
   "cell_type": "code",
   "execution_count": 45,
   "id": "a81e6aea",
   "metadata": {},
   "outputs": [],
   "source": [
    "GridSearchCV?"
   ]
  },
  {
   "cell_type": "code",
   "execution_count": null,
   "id": "9bda43c4",
   "metadata": {},
   "outputs": [],
   "source": []
  }
 ],
 "metadata": {
  "kernelspec": {
   "display_name": "Python 3 (ipykernel)",
   "language": "python",
   "name": "python3"
  },
  "language_info": {
   "codemirror_mode": {
    "name": "ipython",
    "version": 3
   },
   "file_extension": ".py",
   "mimetype": "text/x-python",
   "name": "python",
   "nbconvert_exporter": "python",
   "pygments_lexer": "ipython3",
   "version": "3.9.5"
  }
 },
 "nbformat": 4,
 "nbformat_minor": 5
}
