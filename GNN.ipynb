{
 "cells": [
  {
   "cell_type": "code",
   "execution_count": 1,
   "metadata": {},
   "outputs": [],
   "source": [
    "import os.path as osp\n",
    "import torch\n",
    "import torch.nn as nn\n",
    "import torch.nn.functional as F\n",
    "import torch_geometric.transforms as T\n",
    "import torch_geometric\n",
    "from torch_geometric.datasets import Planetoid, TUDataset\n",
    "from torch_geometric.data import DataLoader\n",
    "from torch_geometric.nn.inits import uniform\n",
    "from torch.nn import Parameter as Param\n",
    "from torch import Tensor \n",
    "torch.manual_seed(42)\n",
    "from torch_geometric.nn.conv import MessagePassing, GatedGraphConv\n",
    "from torch_geometric.nn import global_mean_pool,Linear, global_max_pool, global_add_pool,global_sort_pool\n",
    "import torch.nn.functional as F\n",
    "import matplotlib.pyplot as plt\n",
    "from torch_geometric.loader import DataLoader\n",
    "from os import listdir\n",
    "from os.path import isfile, join\n",
    "from sklearn.model_selection import train_test_split\n",
    "import pandas as pd\n",
    "import random\n",
    "import numpy as np\n",
    "from torch_geometric.utils import to_networkx\n",
    "import os.path as osp\n",
    "from math import ceil\n",
    "import torch_geometric.transforms as T\n",
    "from torch_geometric.nn import DenseGCNConv as GCNConv, dense_diff_pool,GATConv,SAGEConv,SAGPooling\n",
    "import csv"
   ]
  },
  {
   "cell_type": "code",
   "execution_count": 2,
   "metadata": {},
   "outputs": [],
   "source": [
    "if torch.cuda.is_available():\n",
    "    device = torch.device(\"cuda:0\")      \n",
    "else:\n",
    "    device = torch.device(\"cpu\")   \n",
    "    "
   ]
  },
  {
   "cell_type": "code",
   "execution_count": 3,
   "metadata": {},
   "outputs": [],
   "source": [
    "# dataset = TUDataset(root='data/TUDataset', name='PROTEINS_full')\n",
    "# print()\n",
    "# print(f'Dataset: {dataset}:')\n",
    "# print('====================')\n",
    "# print(f'Number of graphs: {len(dataset)}')\n",
    "# print(f'Number of features: {dataset.num_features}')\n",
    "# print(f'Number of classes: {dataset.num_classes}')\n",
    "\n",
    "# data = dataset[0]  # Get the first graph object.\n"
   ]
  },
  {
   "cell_type": "code",
   "execution_count": 4,
   "metadata": {},
   "outputs": [],
   "source": [
    "def load(path, pickle_file, ratio=1):\n",
    "    dataset = pd.read_pickle(path + pickle_file)\n",
    "    dataset.info(memory_usage='deep')\n",
    "\n",
    "    return dataset\n",
    "\n",
    "def loads(data_sets_dir, ratio=1):\n",
    "    data_sets_files = sorted([f for f in listdir(data_sets_dir) if isfile(join(data_sets_dir, f))])\n",
    "\n",
    "    if ratio < 1:\n",
    "        data_sets_files = get_ratio(data_sets_files, ratio)\n",
    "\n",
    "    dataset = load(data_sets_dir, data_sets_files[0])\n",
    "    data_sets_files.remove(data_sets_files[0])\n",
    "\n",
    "    for ds_file in data_sets_files:\n",
    "        dataset = dataset.append(load(data_sets_dir, ds_file))\n",
    "\n",
    "    return dataset"
   ]
  },
  {
   "cell_type": "code",
   "execution_count": 5,
   "metadata": {
    "scrolled": true
   },
   "outputs": [
    {
     "name": "stdout",
     "output_type": "stream",
     "text": [
      "<class 'pandas.core.frame.DataFrame'>\n",
      "RangeIndex: 21082 entries, 0 to 21081\n",
      "Data columns (total 2 columns):\n",
      " #   Column  Non-Null Count  Dtype \n",
      "---  ------  --------------  ----- \n",
      " 0   input   21082 non-null  object\n",
      " 1   target  21082 non-null  int64 \n",
      "dtypes: int64(1), object(1)\n",
      "memory usage: 988.3 KB\n",
      "<class 'pandas.core.frame.DataFrame'>\n"
     ]
    }
   ],
   "source": [
    "input_dataset = loads(\"data/input/\")\n",
    "print(type(input_dataset))"
   ]
  },
  {
   "cell_type": "code",
   "execution_count": 6,
   "metadata": {},
   "outputs": [
    {
     "data": {
      "text/plain": [
       "14619"
      ]
     },
     "execution_count": 6,
     "metadata": {},
     "output_type": "execute_result"
    }
   ],
   "source": [
    "dataset = []\n",
    "for r in input_dataset.iterrows():\n",
    "    if r[1][0].num_nodes>10:\n",
    "        dataset.append(r[1][0])\n",
    "len(dataset)\n",
    "\n",
    "    "
   ]
  },
  {
   "cell_type": "code",
   "execution_count": 7,
   "metadata": {},
   "outputs": [
    {
     "name": "stdout",
     "output_type": "stream",
     "text": [
      "Number of training graphs: 11695\n",
      "Number of test graphs: 2924\n"
     ]
    }
   ],
   "source": [
    "torch.manual_seed(12345)\n",
    "random.shuffle(dataset)\n",
    "train_ratio = 0.8\n",
    "train_samples = int(len(dataset)*0.8)\n",
    "\n",
    "train_dataset = dataset[:train_samples]\n",
    "test_dataset = dataset[train_samples:]\n",
    "\n",
    "print(f'Number of training graphs: {len(train_dataset)}')\n",
    "print(f'Number of test graphs: {len(test_dataset)}')\n",
    "train_loader = DataLoader(train_dataset, batch_size=128, shuffle=True)\n",
    "test_loader = DataLoader(test_dataset, batch_size=128, shuffle=True)"
   ]
  },
  {
   "cell_type": "code",
   "execution_count": 8,
   "metadata": {},
   "outputs": [
    {
     "data": {
      "text/plain": [
       "(92, device(type='cuda', index=0))"
      ]
     },
     "execution_count": 8,
     "metadata": {},
     "output_type": "execute_result"
    }
   ],
   "source": [
    "len(train_loader), device"
   ]
  },
  {
   "cell_type": "code",
   "execution_count": 9,
   "metadata": {},
   "outputs": [],
   "source": [
    "class GNN(torch.nn.Module):\n",
    "    def __init__(self, hidden_channels,out_channels, num_layers,aggregator,num_features):\n",
    "        super(GNN, self).__init__()\n",
    "        torch.manual_seed(12345)\n",
    "        self.ggc = GatedGraphConv(out_channels, num_layers,aggregator).to(device)\n",
    "#         self.trconv = TransformerConv(out_channels, num_layers,aggregator).to(device)\n",
    "        self.conv1 = GATConv(out_channels, hidden_channels, heads = 1).to(device)\n",
    "#         self.conv2 = GCNConv(hidden_channels, int(hidden_channels/2)).to(device)\n",
    "        self.conv2 = GATConv(hidden_channels, int(hidden_channels/2), heads = 1).to(device)\n",
    "        self.conv3 = GATConv(int(hidden_channels/2), 16, heads = 1).to(device)\n",
    "        self.lin = Linear(16, 2).to(device)\n",
    "\n",
    "    def forward(self, x, edge_index, batch):\n",
    "        # 1. Obtain node embeddings \n",
    "        x_gcc = self.ggc(x, edge_index).to(device)\n",
    "#         x_trcc = self.trconv(x, edge_index)\n",
    "        hidden1 = self.conv1(x_gcc, edge_index).relu()\n",
    "#         x = F.dropout(x, p=0.5, training=self.training)\n",
    "        hidden2 = self.conv2(hidden1, edge_index).relu()\n",
    "        hidden3 = self.conv3(hidden2, edge_index)\n",
    "        x = global_max_pool(hidden3, batch) \n",
    "        x = F.dropout(x, p=0.5, training=self.training)\n",
    "        x = self.lin(x)\n",
    "        return x\n",
    "\n"
   ]
  },
  {
   "cell_type": "code",
   "execution_count": 10,
   "metadata": {
    "scrolled": false
   },
   "outputs": [
    {
     "name": "stdout",
     "output_type": "stream",
     "text": [
      "Epoch: 001, Train Acc: 0.5645, Test Acc: 0.5773\n",
      "Epoch: 002, Train Acc: 0.5829, Test Acc: 0.5910\n",
      "Epoch: 003, Train Acc: 0.5645, Test Acc: 0.5773\n",
      "Epoch: 004, Train Acc: 0.5936, Test Acc: 0.6067\n",
      "Epoch: 005, Train Acc: 0.5797, Test Acc: 0.5776\n",
      "Epoch: 006, Train Acc: 0.5903, Test Acc: 0.5876\n",
      "Epoch: 007, Train Acc: 0.5801, Test Acc: 0.5923\n",
      "Epoch: 008, Train Acc: 0.5930, Test Acc: 0.5886\n",
      "Epoch: 009, Train Acc: 0.5741, Test Acc: 0.5934\n",
      "Epoch: 010, Train Acc: 0.5864, Test Acc: 0.6005\n",
      "Epoch: 011, Train Acc: 0.5973, Test Acc: 0.6026\n",
      "Epoch: 012, Train Acc: 0.5960, Test Acc: 0.6115\n",
      "Epoch: 013, Train Acc: 0.5974, Test Acc: 0.6043\n",
      "Epoch: 014, Train Acc: 0.5972, Test Acc: 0.6077\n",
      "Epoch: 015, Train Acc: 0.5921, Test Acc: 0.6057\n",
      "Epoch: 016, Train Acc: 0.5989, Test Acc: 0.6091\n",
      "Epoch: 017, Train Acc: 0.5976, Test Acc: 0.6053\n",
      "Epoch: 018, Train Acc: 0.6007, Test Acc: 0.6118\n",
      "Epoch: 019, Train Acc: 0.5984, Test Acc: 0.6036\n",
      "Epoch: 020, Train Acc: 0.5979, Test Acc: 0.6067\n",
      "Epoch: 021, Train Acc: 0.5929, Test Acc: 0.5886\n",
      "Epoch: 022, Train Acc: 0.5985, Test Acc: 0.6142\n",
      "Epoch: 023, Train Acc: 0.5991, Test Acc: 0.6050\n",
      "Epoch: 024, Train Acc: 0.5953, Test Acc: 0.5947\n",
      "Epoch: 025, Train Acc: 0.5934, Test Acc: 0.5886\n",
      "Epoch: 026, Train Acc: 0.5945, Test Acc: 0.5903\n",
      "Epoch: 027, Train Acc: 0.5968, Test Acc: 0.6070\n",
      "Epoch: 028, Train Acc: 0.5999, Test Acc: 0.6129\n",
      "Epoch: 029, Train Acc: 0.5991, Test Acc: 0.6074\n",
      "Epoch: 030, Train Acc: 0.5973, Test Acc: 0.5975\n",
      "Epoch: 031, Train Acc: 0.6005, Test Acc: 0.6187\n",
      "Epoch: 032, Train Acc: 0.6026, Test Acc: 0.6122\n",
      "Epoch: 033, Train Acc: 0.6055, Test Acc: 0.6074\n",
      "Epoch: 034, Train Acc: 0.5944, Test Acc: 0.5944\n",
      "Epoch: 035, Train Acc: 0.6171, Test Acc: 0.6149\n",
      "Epoch: 036, Train Acc: 0.6225, Test Acc: 0.6194\n",
      "Epoch: 037, Train Acc: 0.6186, Test Acc: 0.6170\n",
      "Epoch: 038, Train Acc: 0.6309, Test Acc: 0.6105\n",
      "Epoch: 039, Train Acc: 0.6209, Test Acc: 0.6183\n",
      "Epoch: 040, Train Acc: 0.6327, Test Acc: 0.6204\n",
      "Epoch: 041, Train Acc: 0.6390, Test Acc: 0.6262\n",
      "Epoch: 042, Train Acc: 0.6423, Test Acc: 0.6211\n",
      "Epoch: 043, Train Acc: 0.6339, Test Acc: 0.6245\n",
      "Epoch: 044, Train Acc: 0.6402, Test Acc: 0.6221\n",
      "Epoch: 045, Train Acc: 0.6353, Test Acc: 0.6204\n",
      "Epoch: 046, Train Acc: 0.6428, Test Acc: 0.6207\n",
      "Epoch: 047, Train Acc: 0.6430, Test Acc: 0.6262\n",
      "Epoch: 048, Train Acc: 0.6375, Test Acc: 0.6303\n",
      "Epoch: 049, Train Acc: 0.6381, Test Acc: 0.6259\n",
      "Epoch: 050, Train Acc: 0.6327, Test Acc: 0.6276\n",
      "Epoch: 051, Train Acc: 0.6457, Test Acc: 0.6228\n",
      "Epoch: 052, Train Acc: 0.6445, Test Acc: 0.6272\n",
      "Epoch: 053, Train Acc: 0.6375, Test Acc: 0.6259\n",
      "Epoch: 054, Train Acc: 0.6408, Test Acc: 0.6320\n",
      "Epoch: 055, Train Acc: 0.6396, Test Acc: 0.6272\n",
      "Epoch: 056, Train Acc: 0.6441, Test Acc: 0.6248\n",
      "Epoch: 057, Train Acc: 0.6390, Test Acc: 0.6269\n",
      "Epoch: 058, Train Acc: 0.6446, Test Acc: 0.6337\n",
      "Epoch: 059, Train Acc: 0.6456, Test Acc: 0.6347\n",
      "Epoch: 060, Train Acc: 0.6392, Test Acc: 0.6382\n",
      "Epoch: 061, Train Acc: 0.6361, Test Acc: 0.6200\n",
      "Epoch: 062, Train Acc: 0.6422, Test Acc: 0.6320\n",
      "Epoch: 063, Train Acc: 0.6453, Test Acc: 0.6337\n",
      "Epoch: 064, Train Acc: 0.6440, Test Acc: 0.6286\n",
      "Epoch: 065, Train Acc: 0.6394, Test Acc: 0.6334\n",
      "Epoch: 066, Train Acc: 0.6448, Test Acc: 0.6286\n",
      "Epoch: 067, Train Acc: 0.6327, Test Acc: 0.6197\n",
      "Epoch: 068, Train Acc: 0.6440, Test Acc: 0.6378\n",
      "Epoch: 069, Train Acc: 0.6453, Test Acc: 0.6293\n",
      "Epoch: 070, Train Acc: 0.6365, Test Acc: 0.6327\n",
      "Epoch: 071, Train Acc: 0.6445, Test Acc: 0.6269\n",
      "Epoch: 072, Train Acc: 0.6467, Test Acc: 0.6272\n",
      "Epoch: 073, Train Acc: 0.6471, Test Acc: 0.6330\n",
      "Epoch: 074, Train Acc: 0.6467, Test Acc: 0.6272\n",
      "Epoch: 075, Train Acc: 0.6426, Test Acc: 0.6276\n",
      "Epoch: 076, Train Acc: 0.6445, Test Acc: 0.6286\n",
      "Epoch: 077, Train Acc: 0.6492, Test Acc: 0.6334\n",
      "Epoch: 078, Train Acc: 0.6509, Test Acc: 0.6289\n",
      "Epoch: 079, Train Acc: 0.6475, Test Acc: 0.6306\n",
      "Epoch: 080, Train Acc: 0.6506, Test Acc: 0.6255\n",
      "Epoch: 081, Train Acc: 0.6546, Test Acc: 0.6296\n",
      "Epoch: 082, Train Acc: 0.6514, Test Acc: 0.6296\n",
      "Epoch: 083, Train Acc: 0.6523, Test Acc: 0.6293\n",
      "Epoch: 084, Train Acc: 0.6501, Test Acc: 0.6341\n",
      "Epoch: 085, Train Acc: 0.6484, Test Acc: 0.6310\n",
      "Epoch: 086, Train Acc: 0.6515, Test Acc: 0.6269\n",
      "Epoch: 087, Train Acc: 0.6542, Test Acc: 0.6282\n",
      "Epoch: 088, Train Acc: 0.6473, Test Acc: 0.6341\n",
      "Epoch: 089, Train Acc: 0.6487, Test Acc: 0.6313\n",
      "Epoch: 090, Train Acc: 0.6563, Test Acc: 0.6289\n",
      "Epoch: 091, Train Acc: 0.6475, Test Acc: 0.6341\n",
      "Epoch: 092, Train Acc: 0.6475, Test Acc: 0.6296\n",
      "Epoch: 093, Train Acc: 0.6522, Test Acc: 0.6358\n",
      "Epoch: 094, Train Acc: 0.6494, Test Acc: 0.6344\n",
      "Epoch: 095, Train Acc: 0.6542, Test Acc: 0.6269\n",
      "Epoch: 096, Train Acc: 0.6499, Test Acc: 0.6330\n",
      "Epoch: 097, Train Acc: 0.6534, Test Acc: 0.6300\n",
      "Epoch: 098, Train Acc: 0.6478, Test Acc: 0.6228\n",
      "Epoch: 099, Train Acc: 0.6511, Test Acc: 0.6327\n",
      "Final training accuracy: 0.639162035057717, test accuracy: 0.6381668946648427\n"
     ]
    }
   ],
   "source": [
    "hidden_channels = 64\n",
    "out_channels = 200\n",
    "num_layers = 3\n",
    "aggregator = \"add\"\n",
    "num_features = 200\n",
    "# torch.cuda.empty_cache()\n",
    "model = GNN(hidden_channels, out_channels, num_layers,aggregator,num_features).to(device)\n",
    "optimizer = torch.optim.Adam(model.parameters(), lr=0.001)\n",
    "criterion = torch.nn.CrossEntropyLoss()\n",
    "\n",
    "def train():\n",
    "    model.train()\n",
    "    for data in train_loader:  # Iterate in batches over the training dataset.\n",
    "        out = model(data.x.to(device), data.edge_index.to(device), data.batch.to(device))  \n",
    "        y = data.y.long()\n",
    "        loss = criterion(out, y.to(device)) \n",
    "        loss.backward()  \n",
    "        optimizer.step() \n",
    "        optimizer.zero_grad()\n",
    "    return \n",
    "\n",
    "def test(loader):\n",
    "    model.eval()\n",
    "    correct = 0\n",
    "    losses = []\n",
    "    for data in loader:  \n",
    "        out = model(data.x.to(device), data.edge_index.to(device), data.batch.to(device)) \n",
    "        y = data.y.long()\n",
    "        loss = criterion(out, y.to(device)) \n",
    "        losses.append(loss.item())\n",
    "        pred = out.argmax(dim=1)  \n",
    "        correct += int((pred == data.y.to(device)).sum())  \n",
    "    return correct / len(loader.dataset), np.mean(losses)\n",
    "\n",
    "train_, test_, train_loss, test_loss = [],[],[],[]\n",
    "max_train= max_test = 0\n",
    "patience = 0\n",
    "for epoch in range(1, 100):\n",
    "    train()\n",
    "    train_acc, t_loss = test(train_loader)\n",
    "    test_acc,tst_loss = test(test_loader)\n",
    "    train_.append(train_acc)\n",
    "    test_.append(test_acc)\n",
    "    train_loss.append(t_loss)\n",
    "    test_loss.append(tst_loss)\n",
    "    if test_acc>max_test:\n",
    "        max_test = test_acc\n",
    "        max_train = train_acc\n",
    "        patience = 0\n",
    "    else:\n",
    "        patience +=1\n",
    "    print(f'Epoch: {epoch:03d}, Train Acc: {train_acc:.4f}, Test Acc: {test_acc:.4f}')\n",
    "    if patience ==100:\n",
    "        break\n",
    "print(\"Final training accuracy: {}, test accuracy: {}\".format(max_train,max_test))"
   ]
  },
  {
   "cell_type": "code",
   "execution_count": 11,
   "metadata": {},
   "outputs": [],
   "source": [
    "# gated_graph_conv_args = {\"out_channels\" : 200, \"num_layers\" : 3, \"aggr\" : \"add\", \"bias\": True}\n",
    "# conv_args = {\n",
    "#                 \"conv1d_1\" : {\"in_channels\": 205, \"out_channels\": 50, \"kernel_size\": 3, \"padding\" : 1},\n",
    "#                 \"conv1d_2\" : {\"in_channels\": 50, \"out_channels\": 20, \"kernel_size\": 1, \"padding\" : 1},\n",
    "#                 \"maxpool1d_1\" : {\"kernel_size\" : 3, \"stride\" : 2},\n",
    "#                 \"maxpool1d_2\" : {\"kernel_size\" : 2, \"stride\" : 2}\n",
    "#             }\n",
    "\n",
    "# emb_size = 200\n",
    "# model = GGNN(gated_graph_conv_args,conv_args,emb_size).to(device)\n",
    "# optimizer = torch.optim.Adam(model.parameters(), lr=0.1)\n",
    "# # loss_fn = torch.nn.CrossEntropyLoss()\n",
    "# loss_fn = torch.nn.BCEWithLogitsLoss()\n",
    "# def train():\n",
    "#     model.train()\n",
    "#     for data in train_loader: \n",
    "# #         print(data.x.shape, data.y.shape)\n",
    "#         prob = model(data.x.to(device), data.edge_index.to(device),data.batch.to(device)).to(device) \n",
    "#         y = data.y.type(torch.FloatTensor)  \n",
    "#         loss = loss_fn(prob, y.to(device))  \n",
    "#         loss.backward()  \n",
    "#         optimizer.step() \n",
    "#         optimizer.zero_grad()\n",
    "        \n",
    "# def test(loader):\n",
    "#     model.eval()\n",
    "#     correct = 0\n",
    "#     r = 0\n",
    "#     for rounds, data in enumerate(loader):  \n",
    "#         prob = model(data.x.to(device), data.edge_index.to(device),data.batch.to(device)).to(device)         \n",
    "#         y = data.y.type(torch.FloatTensor).to(device)\n",
    "#         acc = binary_acc(prob, y)\n",
    "#         correct +=acc \n",
    "#         r = rounds\n",
    "    \n",
    "#     return correct/r\n",
    "\n",
    "# train_, test_ = [],[]\n",
    "# for epoch in range(100):\n",
    "#     train()\n",
    "#     train_acc = test(train_loader)\n",
    "#     test_acc = test(test_loader)\n",
    "#     train_.append(train_acc)\n",
    "#     test_.append(test_acc)\n",
    "#     print('Epoch: {:03d}, Train Acc: {:.5f},  Test Acc: {:.5f}'.format(epoch, train_acc,test_acc))\n",
    "    "
   ]
  },
  {
   "cell_type": "code",
   "execution_count": 12,
   "metadata": {},
   "outputs": [],
   "source": [
    "# l= []\n",
    "# for d in test_dataset:\n",
    "#     l.append(d.y)\n",
    "# print(len(l), np.sum(l))"
   ]
  },
  {
   "cell_type": "code",
   "execution_count": 13,
   "metadata": {},
   "outputs": [
    {
     "data": {
      "image/png": "[encoded data removed]",
      "text/plain": [
       "<Figure size 432x288 with 1 Axes>"
      ]
     },
     "metadata": {
      "needs_background": "light"
     },
     "output_type": "display_data"
    }
   ],
   "source": [
    "fig = plt.figure(figsize = (6,4))\n",
    "plt.plot(train_, label ='train')\n",
    "plt.plot(test_, label = 'test')\n",
    "plt.xlabel(\"Epochs\")\n",
    "plt.ylabel(\"Accuracy\")\n",
    "plt.legend()\n",
    "plt.savefig(\"results_new1.pdf\")\n",
    "plt.show()"
   ]
  },
  {
   "cell_type": "code",
   "execution_count": 14,
   "metadata": {},
   "outputs": [],
   "source": [
    "# import csv\n",
    "# file = open(\"results1.csv\",'a',newline = '')\n",
    "# res_writer = csv.writer(file, delimiter=',',quotechar='|', quoting=csv.QUOTE_MINIMAL)\n",
    "# res_writer.writerow(train_)\n",
    "# res_writer.writerow(test_)\n",
    "# file.flush()\n",
    "# file.close()"
   ]
  }
 ],
 "metadata": {
  "kernelspec": {
   "display_name": "Python 3",
   "language": "python",
   "name": "python3"
  },
  "language_info": {
   "codemirror_mode": {
    "name": "ipython",
    "version": 3
   },
   "file_extension": ".py",
   "mimetype": "text/x-python",
   "name": "python",
   "nbconvert_exporter": "python",
   "pygments_lexer": "ipython3",
   "version": "3.9.5"
  }
 },
 "nbformat": 4,
 "nbformat_minor": 4
}
