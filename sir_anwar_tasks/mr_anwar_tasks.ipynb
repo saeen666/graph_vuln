{
 "cells": [
  {
   "cell_type": "markdown",
   "id": "5c142f2d",
   "metadata": {},
   "source": [
    "## This notebook is same as devign-fix.ipynb - It just compute word2vec and plot embedding instead of training"
   ]
  },
  {
   "cell_type": "code",
   "execution_count": 6,
   "id": "70b26bbd",
   "metadata": {},
   "outputs": [],
   "source": [
    "import configs, gc, pickle\n",
    "from tabulate import tabulate\n",
    "import pandas as pd\n",
    "import numpy as np\n",
    "import networkx as nx\n",
    "import src.data as data_util\n",
    "from src.utils.functions.parse import tokenizer\n",
    "import torch\n",
    "from gensim.models.word2vec import Word2Vec\n",
    "from torch_geometric.data import Data\n",
    "from torch_geometric.utils import convert\n",
    "from gensim.models.keyedvectors import Word2VecKeyedVectors\n",
    "import pathlib, glob, os, time, re, json\n",
    "from pathlib import Path\n",
    "from tqdm.auto import tqdm\n",
    "import pygraphviz\n",
    "import scipy.sparse as sp\n",
    "import torch\n",
    "from gensim.models.word2vec import Word2Vec\n",
    "from src.utils.functions.parse import tokenizer\n",
    "import src.data as data_util\n",
    "import src.process as process\n",
    "import matplotlib.pyplot as plt\n",
    "\n",
    "\n",
    "%matplotlib inline"
   ]
  },
  {
   "cell_type": "code",
   "execution_count": 2,
   "id": "996c6011",
   "metadata": {},
   "outputs": [],
   "source": [
    "class NodesEmbedding:\n",
    "    def __init__(self, nodes_dim: int, w2v_keyed_vectors: Word2VecKeyedVectors):\n",
    "        self.w2v_keyed_vectors = w2v_keyed_vectors\n",
    "        self.kv_size = w2v_keyed_vectors.vector_size\n",
    "        self.nodes_dim = nodes_dim\n",
    "\n",
    "        assert self.nodes_dim >= 0\n",
    "\n",
    "        # Buffer for embeddings with padding\n",
    "        self.target = torch.zeros(self.nodes_dim, self.kv_size).float()\n",
    "\n",
    "    def __call__(self, nodes):\n",
    "        embedded_nodes = self.embed_nodes(nodes)\n",
    "\n",
    "        nodes_tensor = torch.from_numpy(embedded_nodes).float()\n",
    "\n",
    "        self.target[:nodes_tensor.size(0), :] = nodes_tensor\n",
    "\n",
    "        return self.target\n",
    "\n",
    "    def embed_nodes(self, G):\n",
    "        embeddings = []\n",
    "\n",
    "        for (n,d) in G.nodes(data=True):\n",
    "            # Get node's code\n",
    "            node_code = d\n",
    "            # Tokenize the code\n",
    "            tokenized_code = tokenizer(\"\".join(d.values()))\n",
    "            if not tokenized_code:\n",
    "                # print(f\"Dropped node {node}: tokenized code is empty.\")\n",
    "                msg = f\"Empty TOKENIZED from node CODE {node_code}\"\n",
    "                print(msg)\n",
    "            # Get each token's learned embedding vector\n",
    "            vectorized_code = np.array(self.get_vectors(tokenized_code))\n",
    "            # The node's source embedding is the average of it's embedded tokens\n",
    "            source_embedding = np.mean(vectorized_code, 0)\n",
    "            # The node representation is the concatenation of label and source embeddings\n",
    "            #embedding = np.concatenate((np.array([node.type]), source_embedding), axis=0)\n",
    "            embeddings.append(source_embedding)\n",
    "        # print(node.label, node.properties.properties.get(\"METHOD_FULL_NAME\"))\n",
    "\n",
    "        return np.array(embeddings)\n",
    "\n",
    "    # fromTokenToVectors\n",
    "    def get_vectors(self, tokenized_code):\n",
    "        vectors = []\n",
    "        for token in tokenized_code:\n",
    "            if token in self.w2v_keyed_vectors.key_to_index:\n",
    "                vectors.append(self.w2v_keyed_vectors[token])\n",
    "            else:\n",
    "                # print(node.label, token, node.get_code(), tokenized_code)\n",
    "                vectors.append(np.zeros(self.kv_size))\n",
    "        return vectors\n",
    "\n",
    "\n",
    "\n",
    "def nodes_to_input(G, target, nodes_dim, keyed_vectors):\n",
    "    nodes_embedding = NodesEmbedding(nodes_dim, keyed_vectors)\n",
    "    edge_index, edge_attr = convert.from_scipy_sparse_matrix(nx.adjacency_matrix(G))\n",
    "    label = torch.tensor([target]).float()\n",
    "\n",
    "    return Data(x=nodes_embedding(G), edge_index=edge_index, edge_attr=edge_attr ,y=label)"
   ]
  },
  {
   "cell_type": "code",
   "execution_count": 3,
   "id": "09b0846e",
   "metadata": {},
   "outputs": [
    {
     "data": {
      "text/plain": [
       "array(['qemu', 'FFmpeg'], dtype=object)"
      ]
     },
     "execution_count": 3,
     "metadata": {},
     "output_type": "execute_result"
    }
   ],
   "source": [
    "data = pd.read_pickle('cfg_data.pkl')\n",
    "data = data[(data['is_connected']==True) & (np.array([G.number_of_nodes()>0 for G in data['graph'].values]))]\n",
    "data = data[['target', 'project', 'graph','func_code']]\n",
    "data = data.rename(columns={'func_code': 'func'})\n",
    "data['project'].unique()"
   ]
  },
  {
   "cell_type": "code",
   "execution_count": 5,
   "id": "5c3f1562",
   "metadata": {},
   "outputs": [
    {
     "data": {
      "text/html": [
       "<div>\n",
       "<style scoped>\n",
       "    .dataframe tbody tr th:only-of-type {\n",
       "        vertical-align: middle;\n",
       "    }\n",
       "\n",
       "    .dataframe tbody tr th {\n",
       "        vertical-align: top;\n",
       "    }\n",
       "\n",
       "    .dataframe thead th {\n",
       "        text-align: right;\n",
       "    }\n",
       "</style>\n",
       "<table border=\"1\" class=\"dataframe\">\n",
       "  <thead>\n",
       "    <tr style=\"text-align: right;\">\n",
       "      <th></th>\n",
       "      <th>target</th>\n",
       "      <th>project</th>\n",
       "      <th>graph</th>\n",
       "      <th>func</th>\n",
       "    </tr>\n",
       "    <tr>\n",
       "      <th>index</th>\n",
       "      <th></th>\n",
       "      <th></th>\n",
       "      <th></th>\n",
       "      <th></th>\n",
       "    </tr>\n",
       "  </thead>\n",
       "  <tbody>\n",
       "    <tr>\n",
       "      <th>1351</th>\n",
       "      <td>0</td>\n",
       "      <td>qemu</td>\n",
       "      <td>(1000104, 1000108, 1000113, 1000114, 1000117, ...</td>\n",
       "      <td>static uint32_t s390_pci_generate_fid(Error **...</td>\n",
       "    </tr>\n",
       "    <tr>\n",
       "      <th>2903</th>\n",
       "      <td>0</td>\n",
       "      <td>qemu</td>\n",
       "      <td>(1000107, 1000109, 1000111, 1000117, 1000123, ...</td>\n",
       "      <td>static int hdev_open(BlockDriverState *bs, con...</td>\n",
       "    </tr>\n",
       "    <tr>\n",
       "      <th>5323</th>\n",
       "      <td>1</td>\n",
       "      <td>qemu</td>\n",
       "      <td>(1000108, 1000111, 1000113, 1000115, 1000117, ...</td>\n",
       "      <td>static void test_media_insert(void)\\n\\n{\\n\\n  ...</td>\n",
       "    </tr>\n",
       "    <tr>\n",
       "      <th>10901</th>\n",
       "      <td>1</td>\n",
       "      <td>qemu</td>\n",
       "      <td>(1000109, 1000111, 1000114, 1000119, 1000121, ...</td>\n",
       "      <td>static void ivshmem_common_realize(PCIDevice *...</td>\n",
       "    </tr>\n",
       "    <tr>\n",
       "      <th>5657</th>\n",
       "      <td>0</td>\n",
       "      <td>qemu</td>\n",
       "      <td>(1000105, 1000106, 1000107, 1000108, 1000110, ...</td>\n",
       "      <td>static int v9fs_do_lstat(V9fsState *s, V9fsStr...</td>\n",
       "    </tr>\n",
       "  </tbody>\n",
       "</table>\n",
       "</div>"
      ],
      "text/plain": [
       "       target project                                              graph  \\\n",
       "index                                                                      \n",
       "1351        0    qemu  (1000104, 1000108, 1000113, 1000114, 1000117, ...   \n",
       "2903        0    qemu  (1000107, 1000109, 1000111, 1000117, 1000123, ...   \n",
       "5323        1    qemu  (1000108, 1000111, 1000113, 1000115, 1000117, ...   \n",
       "10901       1    qemu  (1000109, 1000111, 1000114, 1000119, 1000121, ...   \n",
       "5657        0    qemu  (1000105, 1000106, 1000107, 1000108, 1000110, ...   \n",
       "\n",
       "                                                    func  \n",
       "index                                                     \n",
       "1351   static uint32_t s390_pci_generate_fid(Error **...  \n",
       "2903   static int hdev_open(BlockDriverState *bs, con...  \n",
       "5323   static void test_media_insert(void)\\n\\n{\\n\\n  ...  \n",
       "10901  static void ivshmem_common_realize(PCIDevice *...  \n",
       "5657   static int v9fs_do_lstat(V9fsState *s, V9fsStr...  "
      ]
     },
     "execution_count": 5,
     "metadata": {},
     "output_type": "execute_result"
    }
   ],
   "source": [
    "data.head()"
   ]
  },
  {
   "cell_type": "code",
   "execution_count": 9,
   "id": "56234c31",
   "metadata": {},
   "outputs": [],
   "source": [
    "def w2v_feature(dataset: str, sample_size=100):\n",
    "    if dataset not in ['qemu','FFmpeg']:\n",
    "        print('dataset should be either one of', ['qemu','FFmpeg'])\n",
    "        return\n",
    "    data1 = data[data['project']==dataset]\n",
    "    print('Tokenizing source code')\n",
    "    tokens_dataset = data_util.tokenize(data1)\n",
    "\n",
    "    #you can change here that instead of training word2vec again load the available dataset\n",
    "    print('Training word2vec on tokens')\n",
    "    w2vmodel = Word2Vec(sentences=tokens_dataset.tokens, vector_size=200, window=5, min_count=1, workers=4, epochs=10)\n",
    "    print('Converting tokens to word2vec representation')\n",
    "\n",
    "    data1[\"input\"] = data1.apply(lambda row: nodes_to_input(row.graph, row.target, nx.number_of_nodes(row.graph),\n",
    "                                                                                    w2vmodel.wv), axis=1)\n",
    "    data1_100 = data1[data1['target']==1].sample(sample_size)\n",
    "    data0_100 = data1[data1['target']==0].sample(sample_size)\n",
    "\n",
    "    arr1 = np.array([np.array(x.x.sum(axis=0)) for x in data1_100['input'].values]).flatten()\n",
    "    arr0 = np.array([np.array(x.x.sum(axis=0)) for x in data0_100['input'].values]).flatten()\n",
    "    \n",
    "    fig, axs = plt.subplots(3, figsize =(15,20))\n",
    "    #fig.suptitle('Vertically stacked subplots')\n",
    "    axs[0].plot(arr1, label='True', color='blue')\n",
    "    axs[0].plot(arr0, label='False', color='orange')\n",
    "    axs[0].set_ylabel('Value of w2v vectors')\n",
    "    axs[0].set_title('Positive and negative')\n",
    "    axs[0].legend()\n",
    "    axs[1].plot(arr0, label='False', color='orange')\n",
    "    axs[1].set_title('Positive')\n",
    "    axs[1].legend()\n",
    "    axs[2].plot(arr1, label='True',color='blue')\n",
    "    axs[2].set_title('Negative')\n",
    "    axs[2].legend()"
   ]
  },
  {
   "cell_type": "markdown",
   "id": "22e95ad7",
   "metadata": {},
   "source": [
    "## Qemu "
   ]
  },
  {
   "cell_type": "code",
   "execution_count": 10,
   "id": "1bc38e81",
   "metadata": {
    "scrolled": true
   },
   "outputs": [
    {
     "name": "stdout",
     "output_type": "stream",
     "text": [
      "Tokenizing source code\n"
     ]
    },
    {
     "name": "stderr",
     "output_type": "stream",
     "text": [
      "/home/ammar/vuln_code/vuln_env/lib/python3.9/site-packages/pandas/core/generic.py:5516: SettingWithCopyWarning: \n",
      "A value is trying to be set on a copy of a slice from a DataFrame.\n",
      "Try using .loc[row_indexer,col_indexer] = value instead\n",
      "\n",
      "See the caveats in the documentation: https://pandas.pydata.org/pandas-docs/stable/user_guide/indexing.html#returning-a-view-versus-a-copy\n",
      "  self[name] = value\n"
     ]
    },
    {
     "name": "stdout",
     "output_type": "stream",
     "text": [
      "Training word2vec on tokens code\n",
      "Converting tokens to word2vec representation\n"
     ]
    },
    {
     "name": "stderr",
     "output_type": "stream",
     "text": [
      "/tmp/ipykernel_3855781/2170042467.py:16: SettingWithCopyWarning: \n",
      "A value is trying to be set on a copy of a slice from a DataFrame.\n",
      "Try using .loc[row_indexer,col_indexer] = value instead\n",
      "\n",
      "See the caveats in the documentation: https://pandas.pydata.org/pandas-docs/stable/user_guide/indexing.html#returning-a-view-versus-a-copy\n",
      "  data1[\"input\"] = data1.apply(lambda row: nodes_to_input(row.graph, row.target, nx.number_of_nodes(row.graph),\n"
     ]
    },
    {
     "data": {
      "image/png": "[encoded data removed]",
      "text/plain": [
       "<Figure size 1080x1440 with 3 Axes>"
      ]
     },
     "metadata": {
      "needs_background": "light"
     },
     "output_type": "display_data"
    }
   ],
   "source": [
    "w2v_feature('qemu', sample_size=100)"
   ]
  },
  {
   "cell_type": "markdown",
   "id": "e30d0307",
   "metadata": {},
   "source": [
    "## FFmpeg"
   ]
  },
  {
   "cell_type": "code",
   "execution_count": 11,
   "id": "f89000c3",
   "metadata": {
    "scrolled": true
   },
   "outputs": [
    {
     "name": "stdout",
     "output_type": "stream",
     "text": [
      "Tokenizing source code\n"
     ]
    },
    {
     "name": "stderr",
     "output_type": "stream",
     "text": [
      "/home/ammar/vuln_code/vuln_env/lib/python3.9/site-packages/pandas/core/generic.py:5516: SettingWithCopyWarning: \n",
      "A value is trying to be set on a copy of a slice from a DataFrame.\n",
      "Try using .loc[row_indexer,col_indexer] = value instead\n",
      "\n",
      "See the caveats in the documentation: https://pandas.pydata.org/pandas-docs/stable/user_guide/indexing.html#returning-a-view-versus-a-copy\n",
      "  self[name] = value\n"
     ]
    },
    {
     "name": "stdout",
     "output_type": "stream",
     "text": [
      "Training word2vec on tokens code\n",
      "Converting tokens to word2vec representation\n"
     ]
    },
    {
     "name": "stderr",
     "output_type": "stream",
     "text": [
      "/tmp/ipykernel_3855781/2170042467.py:16: SettingWithCopyWarning: \n",
      "A value is trying to be set on a copy of a slice from a DataFrame.\n",
      "Try using .loc[row_indexer,col_indexer] = value instead\n",
      "\n",
      "See the caveats in the documentation: https://pandas.pydata.org/pandas-docs/stable/user_guide/indexing.html#returning-a-view-versus-a-copy\n",
      "  data1[\"input\"] = data1.apply(lambda row: nodes_to_input(row.graph, row.target, nx.number_of_nodes(row.graph),\n"
     ]
    },
    {
     "data": {
      "image/png": "[encoded data removed]",
      "text/plain": [
       "<Figure size 1080x1440 with 3 Axes>"
      ]
     },
     "metadata": {
      "needs_background": "light"
     },
     "output_type": "display_data"
    }
   ],
   "source": [
    "w2v_feature('FFmpeg', sample_size=100)"
   ]
  },
  {
   "cell_type": "markdown",
   "id": "f6288a9e",
   "metadata": {},
   "source": [
    "## Reading all the new data and training a word2vec model on it"
   ]
  },
  {
   "cell_type": "code",
   "execution_count": 12,
   "id": "0243b762",
   "metadata": {},
   "outputs": [],
   "source": [
    "del data"
   ]
  },
  {
   "cell_type": "code",
   "execution_count": 19,
   "id": "843d4b98",
   "metadata": {},
   "outputs": [],
   "source": [
    "new_data  = pd.read_csv('msr/MSR_data_cleaned.csv')"
   ]
  },
  {
   "cell_type": "code",
   "execution_count": 21,
   "id": "5b862c4a",
   "metadata": {},
   "outputs": [],
   "source": [
    "new_data_source = pd.DataFrame(data={'func':pd.concat([new_data['func_before'], new_data['func_after']])}) "
   ]
  },
  {
   "cell_type": "code",
   "execution_count": 11,
   "id": "0f4dd09f",
   "metadata": {},
   "outputs": [
    {
     "name": "stderr",
     "output_type": "stream",
     "text": [
      "/home/ammar/vuln_code/vuln_env/lib/python3.9/site-packages/pandas/core/generic.py:5516: SettingWithCopyWarning: \n",
      "A value is trying to be set on a copy of a slice from a DataFrame.\n",
      "Try using .loc[row_indexer,col_indexer] = value instead\n",
      "\n",
      "See the caveats in the documentation: https://pandas.pydata.org/pandas-docs/stable/user_guide/indexing.html#returning-a-view-versus-a-copy\n",
      "  self[name] = value\n"
     ]
    }
   ],
   "source": [
    "tokens_dataset = data_util.tokenize(new_data_source[0:100])"
   ]
  },
  {
   "cell_type": "code",
   "execution_count": 15,
   "id": "75f85ec6",
   "metadata": {},
   "outputs": [
    {
     "data": {
      "text/plain": [
       "array([list(['static', 'bool', 'FUN1', '(', 'struct', 'ldb_message', '*', 'VAR1', ')', '{', 'uint32_t', 'VAR2', ',', 'VAR3', ',', 'VAR4', ';', 'VAR2', '=', 'FUN2', '(', 'VAR1', ',', ',', '0', ')', ';', 'VAR3', '=', 'FUN2', '(', 'VAR1', ',', ',', '0', ')', ';', 'VAR4', '=', '(', 'VAR5', '|', 'VAR6', ')', ';', 'if', '(', '(', 'VAR2', '&', 'VAR7', ')', '&&', '(', '(', 'VAR3', '&', 'VAR4', ')', '==', 'VAR4', ')', ')', '{', 'return', 'true', ';', '}', 'else', '{', 'return', 'false', ';', '}', '}'])],\n",
       "      dtype=object)"
      ]
     },
     "execution_count": 15,
     "metadata": {},
     "output_type": "execute_result"
    }
   ],
   "source": [
    "#print(new_data_source.iloc[0].values[0])\n",
    "#tokens_dataset.iloc[0].values"
   ]
  },
  {
   "cell_type": "code",
   "execution_count": 29,
   "id": "4839bc58",
   "metadata": {},
   "outputs": [],
   "source": [
    "#w2vmodel = Word2Vec.load('msr/all_w2v_model_devign_tokens.model')\n",
    "#for i in (tokens_dataset.iloc[0].values:\n",
    "#w2vmodel.wv['(']"
   ]
  },
  {
   "cell_type": "code",
   "execution_count": 25,
   "id": "d7063c54",
   "metadata": {},
   "outputs": [
    {
     "name": "stdout",
     "output_type": "stream",
     "text": [
      "Tokenizing source code\n",
      "Training word2vec on tokens\n",
      "Converting tokens to word2vec representation\n"
     ]
    }
   ],
   "source": [
    "print('Tokenizing source code')\n",
    "tokens_dataset = data_util.tokenize(new_data_source)\n",
    "\n",
    "#you can change here that instead of training word2vec again load the available dataset\n",
    "print('Training word2vec on tokens')\n",
    "w2vmodel = Word2Vec(sentences=tokens_dataset.tokens, vector_size=200, window=5, min_count=1, workers=4, epochs=10)\n",
    "print('Converting tokens to word2vec representation')\n",
    "w2vmodel.save('msr/all_w2v_model_devign_tokens.model')\n",
    "#load it using: Word2Vec.load('msr/all_w2v_model_devign_tokens.model')"
   ]
  },
  {
   "cell_type": "code",
   "execution_count": 34,
   "id": "3c35c3ec",
   "metadata": {},
   "outputs": [],
   "source": [
    "#data_ar = pd.read_pickle('new_data.pkl')"
   ]
  },
  {
   "cell_type": "code",
   "execution_count": 39,
   "id": "c4823de4",
   "metadata": {},
   "outputs": [],
   "source": [
    "new_data_pos = new_data[new_data['vul']==1]['func_before']\n",
    "new_data_neg = new_data[new_data['vul']==0]['func_after'].sample(11000)"
   ]
  },
  {
   "cell_type": "code",
   "execution_count": 55,
   "id": "094b86d1",
   "metadata": {},
   "outputs": [],
   "source": [
    "from pathlib import Path\n",
    "curr_path = \"new_dataset_update/positive\"\n",
    "Path(curr_path).mkdir(parents=True, exist_ok=True)\n",
    "curr_path = \"new_dataset_update/negative\"\n",
    "Path(curr_path).mkdir(parents=True, exist_ok=True)"
   ]
  },
  {
   "cell_type": "code",
   "execution_count": 56,
   "id": "6d20e10a",
   "metadata": {},
   "outputs": [],
   "source": [
    "for key, c_code in new_data_pos.items():\n",
    "    with open('new_dataset_update/positive/{}.c'.format(key), 'w') as f:\n",
    "        f.write(c_code)"
   ]
  },
  {
   "cell_type": "code",
   "execution_count": 57,
   "id": "17bd9557",
   "metadata": {},
   "outputs": [],
   "source": [
    "for key, c_code in new_data_neg.items():\n",
    "    with open('new_dataset_update/negative/{}.c'.format(key), 'w') as f:\n",
    "        f.write(c_code)"
   ]
  },
  {
   "cell_type": "markdown",
   "id": "28ac23ca",
   "metadata": {},
   "source": [
    "#### After this step you must run c2cfg_server.py if you don't have CFGs of the code, change the directory to the new path where the c files of this dataset is present"
   ]
  },
  {
   "cell_type": "markdown",
   "id": "973e7c87",
   "metadata": {},
   "source": [
    "### Change according to new dataset filename and  c files"
   ]
  },
  {
   "cell_type": "code",
   "execution_count": 199,
   "id": "b7e71603",
   "metadata": {
    "scrolled": true
   },
   "outputs": [
    {
     "data": {
      "application/vnd.jupyter.widget-view+json": {
       "model_id": "1f58b1a6793e4ae9866b1d80fc49a104",
       "version_major": 2,
       "version_minor": 0
      },
      "text/plain": [
       "  0%|          | 0/2 [00:00<?, ?it/s]"
      ]
     },
     "metadata": {},
     "output_type": "display_data"
    },
    {
     "data": {
      "application/vnd.jupyter.widget-view+json": {
       "model_id": "aaacc08354cb4b2e9ebf3c5f6ebbdde7",
       "version_major": 2,
       "version_minor": 0
      },
      "text/plain": [
       "total files:   0%|          | 0/10900 [00:00<?, ?it/s]"
      ]
     },
     "metadata": {},
     "output_type": "display_data"
    },
    {
     "name": "stderr",
     "output_type": "stream",
     "text": [
      "Error: syntax error in line 102383 near '\\'\n",
      "Error: syntax error in line 110193 near '%'\n",
      "Error: syntax error in line 112952 near '%'\n",
      "Error: syntax error in line 120940 near '%'\n",
      "Error: syntax error in line 193665 near '\\'\n",
      "Error: syntax error in line 206502 near '\\'\n",
      "Error: syntax error in line 234993 near '%'\n",
      "Error: syntax error in line 239225 near '%'\n",
      "Error: syntax error in line 240485 near '%'\n",
      "Error: syntax error in line 246161 near '\\'\n",
      "Error: syntax error in line 248497 near '\\'\n",
      "Error: syntax error in line 253786 near '%'\n",
      "Error: syntax error in line 257432 near '\\'\n",
      "Error: syntax error in line 307394 near '\\'\n",
      "Error: syntax error in line 317891 near '%'\n",
      "Error: syntax error in line 334818 near '%'\n",
      "Error: syntax error in line 344067 near '%'\n",
      "Error: syntax error in line 349740 near '%'\n",
      "Error: syntax error in line 355937 near '%'\n",
      "Error: syntax error in line 369531 near '%'\n",
      "Error: syntax error in line 373238 near '%'\n",
      "Warning: syntax ambiguity - badly delimited number '0x' in line 407308 of input splits into two tokens\n",
      "Error: syntax error in line 407308 near 'x'\n",
      "Error: syntax error in line 407418 near '%'\n",
      "Error: syntax error in line 430080 near '%'\n",
      "Error: syntax error in line 440233 near '\\'\n",
      "Error: syntax error in line 461838 near '%'\n",
      "Error: syntax error in line 488266 near '%'\n",
      "Error: syntax error in line 506243 near '\\'\n",
      "Error: syntax error in line 508925 near '\\'\n",
      "Error: syntax error in line 553553 near '''\n",
      "Error: syntax error in line 560030 near '\\'\n",
      "Error: syntax error in line 566373 near '%'\n",
      "Error: syntax error in line 605673 near '-'\n",
      "Error: syntax error in line 613762 near '%'\n",
      "Error: syntax error in line 626514 near '''\n",
      "Error: syntax error in line 636585 near '\\'\n",
      "Error: syntax error in line 658232 near '%'\n",
      "Error: syntax error in line 658301 near '\\'\n",
      "Error: syntax error in line 674628 near '\\'\n",
      "Error: syntax error in line 674638 near '.'\n",
      "Error: syntax error in line 708461 near '%'\n",
      "Error: syntax error in line 716977 near '%'\n",
      "Error: syntax error in line 718922 near '\\'\n",
      "Error: syntax error in line 728875 near '.'\n",
      "Error: syntax error in line 733922 near '\\'\n",
      "Error: syntax error in line 744567 near '%'\n",
      "Error: syntax error in line 746059 near '\\'\n",
      "Error: syntax error in line 760551 near '\\'\n",
      "Error: syntax error in line 806218 near '''\n",
      "Error: syntax error in line 811307 near '%'\n",
      "Error: syntax error in line 831166 near '%'\n",
      "Error: syntax error in line 838517 near '-'\n",
      "Error: syntax error in line 843682 near '\\'\n",
      "Error: syntax error in line 846121 near '\\'\n",
      "Error: syntax error in line 849189 near '-'\n",
      "Error: syntax error in line 895816 near '%'\n",
      "Error: syntax error in line 900804 near '\\'\n",
      "Error: syntax error in line 906517 near '%'\n",
      "Error: syntax error in line 926188 near '\\'\n",
      "Error: syntax error in line 943202 near '\\'\n",
      "Error: syntax error in line 947834 near '\\'\n",
      "Error: syntax error in line 954842 near '%'\n",
      "Error: syntax error in line 986702 near '$'\n",
      "Error: syntax error in line 1031176 near '%'\n",
      "Error: syntax error in line 1052110 near '%'\n",
      "Error: syntax error in line 1059584 near '\\'\n",
      "Error: syntax error in line 1060021 near '\\'\n",
      "Error: syntax error in line 1061464 near '%'\n",
      "Error: syntax error in line 1065766 near '%'\n",
      "Error: syntax error in line 1077341 near '-'\n",
      "Error: syntax error in line 1088938 near '\\'\n",
      "Error: syntax error in line 1115433 near '\\'\n",
      "Error: syntax error in line 1165131 near '''\n",
      "Error: syntax error in line 1203203 near '%'\n",
      "Error: syntax error in line 1204071 near '\\'\n",
      "Error: syntax error in line 1204078 near '\\'\n",
      "Error: syntax error in line 1205019 near '%'\n",
      "Error: syntax error in line 1206493 near '%'\n",
      "Error: syntax error in line 1228987 near '%'\n",
      "Error: syntax error in line 1231421 near '%'\n",
      "Error: syntax error in line 1244731 near '%'\n",
      "Error: syntax error in line 1249432 near '\\'\n",
      "Error: syntax error in line 1254027 near '''\n",
      "Error: syntax error in line 1270530 near '.'\n",
      "Error: syntax error in line 1278864 near 'string'\n",
      "Error: syntax error in line 1300807 near '\\'\n",
      "Error: syntax error in line 1332407 near '''\n",
      "Error: syntax error in line 1335775 near '%'\n",
      "Error: syntax error in line 1342276 near '.'\n",
      "Error: syntax error in line 1366855 near '%'\n",
      "Error: syntax error in line 1372925 near '\\'\n",
      "Error: syntax error in line 1392778 near '\\'\n",
      "Error: syntax error in line 1413059 near '%'\n",
      "Error: syntax error in line 1413899 near '%'\n",
      "Error: syntax error in line 1448190 near '%'\n",
      "Error: syntax error in line 1519442 near '%'\n",
      "Error: syntax error in line 1557441 near '%'\n",
      "Error: syntax error in line 1611616 near '-'\n",
      "Error: syntax error in line 1621096 near '\\'\n",
      "Error: syntax error in line 1650776 near '%'\n",
      "Error: syntax error in line 1652307 near '%'\n",
      "Warning: syntax ambiguity - badly delimited number '0x' in line 1667522 of input splits into two tokens\n",
      "Error: syntax error in line 1667522 near 'x'\n",
      "Error: syntax error in line 1691101 near '\\'\n",
      "Error: syntax error in line 1703267 near '%'\n",
      "Error: syntax error in line 1704031 near '%'\n",
      "Error: syntax error in line 1745963 near '\\'\n",
      "Error: syntax error in line 1759986 near '\\'\n",
      "Error: syntax error in line 1760525 near '%'\n",
      "Error: syntax error in line 1761402 near '%'\n",
      "Error: syntax error in line 1774268 near '%'\n",
      "Error: syntax error in line 1775277 near '\\'\n",
      "Error: syntax error in line 1777142 near '%'\n",
      "Error: syntax error in line 1787317 near 'my'\n",
      "Error: syntax error in line 1791226 near '%'\n",
      "Error: syntax error in line 1798053 near '%'\n",
      "Error: syntax error in line 1816554 near '\\'\n",
      "Error: syntax error in line 1821605 near '%'\n",
      "Error: syntax error in line 1829529 near '\\'\n",
      "Error: syntax error in line 1844975 near '%'\n",
      "Error: syntax error in line 1867697 near ':'\n",
      "Error: syntax error in line 1875253 near '\\'\n",
      "Error: syntax error in line 1883969 near '%'\n",
      "Error: syntax error in line 1890469 near '\\'\n",
      "Error: syntax error in line 1898510 near '\\'\n",
      "Error: syntax error in line 2027291 near '''\n",
      "Error: syntax error in line 2036509 near '%'\n",
      "Error: syntax error in line 2080855 near '%'\n",
      "Error: syntax error in line 2093291 near '%'\n",
      "Error: syntax error in line 2096113 near '%'\n",
      "Error: syntax error in line 2102667 near '\\'\n",
      "Error: syntax error in line 2111568 near '['\n",
      "Error: syntax error in line 2126997 near '%'\n",
      "Error: syntax error in line 2140384 near '%'\n",
      "Error: syntax error in line 2144971 near '%'\n",
      "Error: syntax error in line 2157323 near '.'\n",
      "Error: syntax error in line 2192130 near '\\'\n",
      "Error: syntax error in line 2221201 near '\\'\n",
      "Error: syntax error in line 2232736 near '%'\n",
      "Error: syntax error in line 2256445 near '%'\n",
      "Error: syntax error in line 2258819 near '%'\n",
      "Error: syntax error in line 2260838 near '%'\n",
      "Error: syntax error in line 2260975 near '%'\n",
      "Error: syntax error in line 2274436 near '%'\n",
      "Error: syntax error in line 2276956 near '%'\n",
      "Error: syntax error in line 2281474 near '%'\n",
      "Error: syntax error in line 2284556 near '%'\n",
      "Error: syntax error in line 2286018 near '\\'\n",
      "Error: syntax error in line 2302271 near '\\'\n",
      "Error: syntax error in line 2315155 near '%'\n",
      "Error: syntax error in line 2317867 near '%'\n",
      "Error: syntax error in line 2319442 near '.'\n",
      "Error: syntax error in line 2324597 near '%'\n",
      "Error: syntax error in line 2324629 near '?'\n",
      "Error: syntax error in line 2337265 near '%'\n",
      "Error: syntax error in line 2340731 near '%'\n",
      "Error: syntax error in line 2369586 near '['\n",
      "Error: syntax error in line 2370295 near '%'\n",
      "Error: syntax error in line 2417426 near '\\'\n",
      "Error: syntax error in line 2418871 near '\\'\n",
      "Error: syntax error in line 2421088 near '%'\n",
      "Error: syntax error in line 2422564 near '%'\n",
      "Error: syntax error in line 2423509 near '%'\n",
      "Error: syntax error in line 2452116 near '%'\n",
      "Error: syntax error in line 2472486 near '%'\n",
      "Error: syntax error in line 2473871 near '%'\n",
      "Error: syntax error in line 2489177 near '$'\n",
      "Error: syntax error in line 2511779 near '\\'\n",
      "Error: syntax error in line 2518697 near '%'\n"
     ]
    },
    {
     "data": {
      "application/vnd.jupyter.widget-view+json": {
       "model_id": "cd1eb233f7d8491c98c6e44a5c32fcdd",
       "version_major": 2,
       "version_minor": 0
      },
      "text/plain": [
       "total files:   0%|          | 0/11000 [00:00<?, ?it/s]"
      ]
     },
     "metadata": {},
     "output_type": "display_data"
    },
    {
     "name": "stderr",
     "output_type": "stream",
     "text": [
      "Error: syntax error in line 2528150 near '\\'\n",
      "Error: syntax error in line 2556328 near '%'\n",
      "Error: syntax error in line 2561669 near '\\'\n",
      "Error: syntax error in line 2562650 near '%'\n",
      "Error: syntax error in line 2582805 near '''\n",
      "Error: syntax error in line 2591168 near '\\'\n",
      "Error: syntax error in line 2610490 near '%'\n",
      "Error: syntax error in line 2612625 near '%'\n",
      "Error: syntax error in line 2616378 near '%'\n",
      "Error: syntax error in line 2633227 near '%'\n",
      "Error: syntax error in line 2638564 near '%'\n",
      "Error: syntax error in line 2667857 near '\\'\n",
      "Error: syntax error in line 2677777 near '\\'\n",
      "Error: syntax error in line 2687886 near '%'\n",
      "Error: syntax error in line 2702428 near '['\n",
      "Error: syntax error in line 2712585 near '\\'\n",
      "Error: syntax error in line 2717126 near '%'\n",
      "Error: syntax error in line 2740666 near '\\'\n",
      "Error: syntax error in line 2746386 near '\\'\n",
      "Error: syntax error in line 2747024 near '\\'\n",
      "Error: syntax error in line 2763374 near '\\'\n",
      "Error: syntax error in line 2778686 near '%'\n",
      "Error: syntax error in line 2791952 near 'my'\n",
      "Error: syntax error in line 2813435 near '''\n",
      "Error: syntax error in line 2861224 near '%'\n",
      "Error: syntax error in line 2875186 near '\\'\n",
      "Error: syntax error in line 2875903 near '%'\n",
      "Error: syntax error in line 2880363 near '\\'\n",
      "Error: syntax error in line 2881345 near '\\'\n",
      "Error: syntax error in line 2887804 near ':'\n",
      "Error: syntax error in line 2892420 near '''\n",
      "Error: syntax error in line 2904969 near '\\'\n",
      "Error: syntax error in line 2908435 near '\\'\n",
      "Error: syntax error in line 2917316 near '%'\n",
      "Error: syntax error in line 2922415 near '%'\n",
      "Error: syntax error in line 2950699 near '%'\n",
      "Error: syntax error in line 2959721 near '%'\n",
      "Error: syntax error in line 2960403 near '\\'\n",
      "Error: syntax error in line 2981190 near '%'\n",
      "Error: syntax error in line 2992440 near '''\n",
      "Error: syntax error in line 3006204 near '\\'\n",
      "Error: syntax error in line 3021058 near '%'\n",
      "Error: syntax error in line 3034540 near '%'\n",
      "Error: syntax error in line 3038005 near '%'\n",
      "Error: syntax error in line 3066375 near '%'\n",
      "Error: syntax error in line 3072395 near '\\'\n",
      "Error: syntax error in line 3075048 near '%'\n",
      "Error: syntax error in line 3083337 near '%'\n",
      "Error: syntax error in line 3103653 near '%'\n",
      "Error: syntax error in line 3111133 near '\\'\n",
      "Error: syntax error in line 3111996 near '%'\n",
      "Error: syntax error in line 3121662 near '''\n",
      "Error: syntax error in line 3125114 near '\\'\n",
      "Error: syntax error in line 3125474 near '%'\n",
      "Error: syntax error in line 3132878 near ':'\n",
      "Error: syntax error in line 3145227 near '%'\n",
      "Error: syntax error in line 3153248 near '%'\n",
      "Error: syntax error in line 3155371 near ':'\n",
      "Error: syntax error in line 3158308 near '%'\n",
      "Error: syntax error in line 3202877 near '%'\n",
      "Error: syntax error in line 3211155 near '%'\n",
      "Error: syntax error in line 3211552 near '%'\n",
      "Error: syntax error in line 3224863 near '%'\n",
      "Error: syntax error in line 3235044 near '\\'\n",
      "Error: syntax error in line 3250711 near '%'\n",
      "Error: syntax error in line 3255971 near '%'\n",
      "Error: syntax error in line 3261513 near '%'\n",
      "Error: syntax error in line 3273950 near '['\n",
      "Error: syntax error in line 3275362 near '%'\n",
      "Error: syntax error in line 3285406 near '%'\n",
      "Error: syntax error in line 3315576 near '\\'\n"
     ]
    }
   ],
   "source": [
    "check_empty  ='digraph .*\\{ *\\n*\\}' #to check if generated CFG is empty or not\n",
    "pd_list = []\n",
    "dict_e = {}\n",
    "path_code = 'new_dataset_update' #I have changed the name\n",
    "project_path = glob.glob(path_code+\"/*_cfg\")\n",
    "for i in tqdm(project_path):\n",
    "    path = pathlib.PurePath(i)\n",
    "    project_name = path.name \n",
    "    project = glob.glob(i+'/*')\n",
    "    dict_e[i+' total'] = len(project)\n",
    "    dict_e[i+' removed'] = 0\n",
    "    for path_src in tqdm(project, 'total files'):\n",
    "        #print(path_src)\n",
    "        new_dict   = dict()\n",
    "        src_file   = str(Path(path_src+'/'+pathlib.PurePath(path_src).name+'.c').resolve())\n",
    "        cfg_folder = str(Path(path_src+'/'+'cfg/').resolve())\n",
    "        index      = int(pathlib.PurePath(src_file).name.replace(\".c\",\"\"))\n",
    "        target     = project_name.split('_')[0]\n",
    "        #src_file   =  str(Path(os.path.join('', *[path_code,target,str(index)+'.c'])).resolve()) #changed for new_Dataset\n",
    "        #print('{}- {}- {}- {}- {}'.format(path_src, cfg_folder,index,target,src_file))\n",
    "        with open(src_file, 'r') as f:\n",
    "            src_code = f.read()\n",
    "        dot_arr = []\n",
    "        for file in glob.glob(cfg_folder+\"/*\"):\n",
    "            with open(file,'r') as f:\n",
    "                dot_arr.append(f.read())\n",
    "        dot_arr = [x for x in dot_arr if not re.search(check_empty, x)] # removes empty graphs\n",
    "        if (len(dot_arr) == 1):                                         #if graph is not empty and is connected\n",
    "            is_connected = True\n",
    "            #G = nx.Graph(nx.drawing.nx_pydot.read_dot(Path(cfg_folder).joinpath(\"0-cfg.dot\")))\n",
    "            try:\n",
    "                with open(Path(cfg_folder).joinpath(\"0-cfg.dot\")) as f:\n",
    "                    dotFormat = f.read()\n",
    "                new_str = dotFormat.replace('\\\\\"', '')                       #To catch escape characters\n",
    "                new_str = \"\\n\".join([f_str.strip() for f_str in dotFormat.split('\\n')])\n",
    "                G = nx.drawing.nx_agraph.from_agraph(pygraphviz.AGraph(new_str)); #convert graph into Networkx object\n",
    "                new_dict['index']         = index\n",
    "                new_dict['project']       = project_name\n",
    "                new_dict['func_code']     = src_code\n",
    "                new_dict['graph']         = G\n",
    "                new_dict['is_connected']  = is_connected\n",
    "                new_dict['dot_string']    = new_str\n",
    "                if target=='positive':\n",
    "                    new_dict['target']        = 1\n",
    "                elif target =='negative':\n",
    "                    new_dict['target']        = 0\n",
    "                else:\n",
    "                    print('class other than negative and positive found')\n",
    "                pd_list.append(new_dict)\n",
    "            except ValueError as e:\n",
    "                dict_e[i+' removed'] += 1\n",
    "                pass\n",
    "            \n",
    "        dict_e[i+' used'] = dict_e[i+' total'] - dict_e[i+' removed']"
   ]
  },
  {
   "cell_type": "code",
   "execution_count": 200,
   "id": "76f6dbea",
   "metadata": {},
   "outputs": [
    {
     "name": "stdout",
     "output_type": "stream",
     "text": [
      "{\n",
      "    \"new_dataset_update/positive_cfg total\": 10900,\n",
      "    \"new_dataset_update/positive_cfg removed\": 168,\n",
      "    \"new_dataset_update/positive_cfg used\": 10732,\n",
      "    \"new_dataset_update/negative_cfg total\": 11000,\n",
      "    \"new_dataset_update/negative_cfg removed\": 71,\n",
      "    \"new_dataset_update/negative_cfg used\": 10929\n",
      "}\n"
     ]
    }
   ],
   "source": [
    "print(json.dumps(dict_e, indent=4))"
   ]
  },
  {
   "cell_type": "code",
   "execution_count": 201,
   "id": "83f5917b",
   "metadata": {},
   "outputs": [
    {
     "name": "stdout",
     "output_type": "stream",
     "text": [
      "{\n",
      "    \"new_dataset_update/positive_cfg total\": 10900,\n",
      "    \"new_dataset_update/positive_cfg removed\": 168,\n",
      "    \"new_dataset_update/positive_cfg used\": 10732,\n",
      "    \"new_dataset_update/negative_cfg total\": 11000,\n",
      "    \"new_dataset_update/negative_cfg removed\": 71,\n",
      "    \"new_dataset_update/negative_cfg used\": 10929\n",
      "}\n",
      "tokenizing code\n",
      "No of samples in dataset: 21082 \n",
      "\n",
      "\n",
      "\n",
      " **************************************** \n",
      "\n",
      "+------+--------------+\n",
      "|      | Node stats   |\n",
      "+======+==============+\n",
      "| min  | 2            |\n",
      "+------+--------------+\n",
      "| max  | 9011         |\n",
      "+------+--------------+\n",
      "| mean | 70.0049      |\n",
      "+------+--------------+\n",
      "| std  | 185.907      |\n",
      "+------+--------------+\n",
      "\n",
      "\n",
      "\n",
      "\n",
      "+------+--------------+\n",
      "|      | Edge stats   |\n",
      "+======+==============+\n",
      "| min  | 1            |\n",
      "+------+--------------+\n",
      "| max  | 11987        |\n",
      "+------+--------------+\n",
      "| mean | 79.3158      |\n",
      "+------+--------------+\n",
      "| std  | 222.374      |\n",
      "+------+--------------+\n",
      "\n",
      "\n",
      "\n",
      "1 = Vulnerable, 0 = Not Vulnerable\n",
      "\n",
      "\n",
      "+------+----------------------+\n",
      "|      | Class 0 Node stats   |\n",
      "+======+======================+\n",
      "| min  | 2                    |\n",
      "+------+----------------------+\n",
      "| max  | 3766                 |\n",
      "+------+----------------------+\n",
      "| mean | 34.2141              |\n",
      "+------+----------------------+\n",
      "| std  | 75.7101              |\n",
      "+------+----------------------+\n",
      "\n",
      "\n",
      "\n",
      "\n",
      "+------+----------------------+\n",
      "|      | Class 0 Edge stats   |\n",
      "+======+======================+\n",
      "| min  | 1                    |\n",
      "+------+----------------------+\n",
      "| max  | 4177                 |\n",
      "+------+----------------------+\n",
      "| mean | 37.5352              |\n",
      "+------+----------------------+\n",
      "| std  | 86.9351              |\n",
      "+------+----------------------+\n",
      "\n",
      "\n",
      "\n",
      "\n",
      "+------+----------------------+\n",
      "|      | Class 1 Node stats   |\n",
      "+======+======================+\n",
      "| min  | 2                    |\n",
      "+------+----------------------+\n",
      "| max  | 9011                 |\n",
      "+------+----------------------+\n",
      "| mean | 106.752              |\n",
      "+------+----------------------+\n",
      "| std  | 247.99               |\n",
      "+------+----------------------+\n",
      "\n",
      "\n",
      "\n",
      "\n",
      "+------+----------------------+\n",
      "|      | Class 1 Edge stats   |\n",
      "+======+======================+\n",
      "| min  | 1                    |\n",
      "+------+----------------------+\n",
      "| max  | 11987                |\n",
      "+------+----------------------+\n",
      "| mean | 122.213              |\n",
      "+------+----------------------+\n",
      "| std  | 298.051              |\n",
      "+------+----------------------+\n",
      "\n",
      "\n",
      "\n",
      "\n",
      "Writing to file/pandas\n"
     ]
    },
    {
     "ename": "FileNotFoundError",
     "evalue": "[Errno 2] No such file or directory: 'new_data_update/data.pkl'",
     "output_type": "error",
     "traceback": [
      "\u001b[0;31m---------------------------------------------------------------------------\u001b[0m",
      "\u001b[0;31mFileNotFoundError\u001b[0m                         Traceback (most recent call last)",
      "\u001b[0;32m/tmp/ipykernel_3855781/3082165328.py\u001b[0m in \u001b[0;36m<module>\u001b[0;34m\u001b[0m\n\u001b[1;32m     46\u001b[0m                                                                                     w2vmodel.wv), axis=1)\n\u001b[1;32m     47\u001b[0m \u001b[0mprint\u001b[0m\u001b[0;34m(\u001b[0m\u001b[0;34m'Writing to file/pandas'\u001b[0m\u001b[0;34m)\u001b[0m\u001b[0;34m\u001b[0m\u001b[0;34m\u001b[0m\u001b[0m\n\u001b[0;32m---> 48\u001b[0;31m \u001b[0mpd\u001b[0m\u001b[0;34m.\u001b[0m\u001b[0mto_pickle\u001b[0m\u001b[0;34m(\u001b[0m\u001b[0mdata\u001b[0m\u001b[0;34m[\u001b[0m\u001b[0;34m[\u001b[0m\u001b[0;34m'input'\u001b[0m\u001b[0;34m,\u001b[0m\u001b[0;34m'target'\u001b[0m\u001b[0;34m]\u001b[0m\u001b[0;34m]\u001b[0m\u001b[0;34m,\u001b[0m \u001b[0;34m'new_data_update/data.pkl'\u001b[0m\u001b[0;34m)\u001b[0m\u001b[0;34m\u001b[0m\u001b[0;34m\u001b[0m\u001b[0m\n\u001b[0m",
      "\u001b[0;32m~/vuln_code/vuln_env/lib/python3.9/site-packages/pandas/io/pickle.py\u001b[0m in \u001b[0;36mto_pickle\u001b[0;34m(obj, filepath_or_buffer, compression, protocol, storage_options)\u001b[0m\n\u001b[1;32m     92\u001b[0m         \u001b[0mprotocol\u001b[0m \u001b[0;34m=\u001b[0m \u001b[0mpickle\u001b[0m\u001b[0;34m.\u001b[0m\u001b[0mHIGHEST_PROTOCOL\u001b[0m\u001b[0;34m\u001b[0m\u001b[0;34m\u001b[0m\u001b[0m\n\u001b[1;32m     93\u001b[0m \u001b[0;34m\u001b[0m\u001b[0m\n\u001b[0;32m---> 94\u001b[0;31m     with get_handle(\n\u001b[0m\u001b[1;32m     95\u001b[0m         \u001b[0mfilepath_or_buffer\u001b[0m\u001b[0;34m,\u001b[0m\u001b[0;34m\u001b[0m\u001b[0;34m\u001b[0m\u001b[0m\n\u001b[1;32m     96\u001b[0m         \u001b[0;34m\"wb\"\u001b[0m\u001b[0;34m,\u001b[0m\u001b[0;34m\u001b[0m\u001b[0;34m\u001b[0m\u001b[0m\n",
      "\u001b[0;32m~/vuln_code/vuln_env/lib/python3.9/site-packages/pandas/io/common.py\u001b[0m in \u001b[0;36mget_handle\u001b[0;34m(path_or_buf, mode, encoding, compression, memory_map, is_text, errors, storage_options)\u001b[0m\n\u001b[1;32m    709\u001b[0m         \u001b[0;32melse\u001b[0m\u001b[0;34m:\u001b[0m\u001b[0;34m\u001b[0m\u001b[0;34m\u001b[0m\u001b[0m\n\u001b[1;32m    710\u001b[0m             \u001b[0;31m# Binary mode\u001b[0m\u001b[0;34m\u001b[0m\u001b[0;34m\u001b[0m\u001b[0;34m\u001b[0m\u001b[0m\n\u001b[0;32m--> 711\u001b[0;31m             \u001b[0mhandle\u001b[0m \u001b[0;34m=\u001b[0m \u001b[0mopen\u001b[0m\u001b[0;34m(\u001b[0m\u001b[0mhandle\u001b[0m\u001b[0;34m,\u001b[0m \u001b[0mioargs\u001b[0m\u001b[0;34m.\u001b[0m\u001b[0mmode\u001b[0m\u001b[0;34m)\u001b[0m\u001b[0;34m\u001b[0m\u001b[0;34m\u001b[0m\u001b[0m\n\u001b[0m\u001b[1;32m    712\u001b[0m         \u001b[0mhandles\u001b[0m\u001b[0;34m.\u001b[0m\u001b[0mappend\u001b[0m\u001b[0;34m(\u001b[0m\u001b[0mhandle\u001b[0m\u001b[0;34m)\u001b[0m\u001b[0;34m\u001b[0m\u001b[0;34m\u001b[0m\u001b[0m\n\u001b[1;32m    713\u001b[0m \u001b[0;34m\u001b[0m\u001b[0m\n",
      "\u001b[0;31mFileNotFoundError\u001b[0m: [Errno 2] No such file or directory: 'new_data_update/data.pkl'"
     ]
    }
   ],
   "source": [
    "print(json.dumps(dict_e, indent=4))\n",
    "data = pd.DataFrame(pd_list)\n",
    "data = data[['target', 'project', 'graph','func_code','index']]\n",
    "data = data.rename(columns={'func_code': 'func'})\n",
    "print('tokenizing code')\n",
    "w2vmodel = Word2Vec.load('new_dataset_update/word2vec.model')\n",
    "\n",
    "print(\"No of samples in dataset: {} \".format(len(data)))\n",
    "print('\\n'*3,\"*\"*40,'\\n')\n",
    "\n",
    "node_size_group = data.apply(lambda g: nx.number_of_nodes(g.graph),axis=1).describe()[['min', 'max','mean','std']]\n",
    "\n",
    "print(tabulate(node_size_group.to_frame(),\n",
    "               tablefmt=\"grid\", stralign='left', numalign='left',\n",
    "               headers=['Node stats']))\n",
    "\n",
    "\n",
    "print('\\n'*3)\n",
    "\n",
    "edge_size_group = data.apply(lambda g: nx.number_of_edges(g.graph),axis=1).describe()[['min', 'max','mean','std']]\n",
    "print(tabulate(edge_size_group.to_frame(),\n",
    "                   tablefmt=\"grid\", stralign='left', numalign='left',\n",
    "                   headers=['Edge stats']))\n",
    "\n",
    "print('\\n\\n')\n",
    "print(\"1 = Vulnerable, 0 = Not Vulnerable\")\n",
    "print('\\n')\n",
    "for name, group in data.groupby('target'):\n",
    "    \n",
    "    edge_size_group = group.apply(lambda g: nx.number_of_edges(g.graph),axis=1).describe()[['min', 'max','mean','std']]\n",
    "    node_size_group = group.apply(lambda g: nx.number_of_nodes(g.graph),axis=1).describe()[['min', 'max','mean','std']]\n",
    "    \n",
    "    print(tabulate(node_size_group.to_frame(),\n",
    "               tablefmt=\"grid\", stralign='left', numalign='left',\n",
    "               headers=['Class {} Node stats'.format(name)]))\n",
    "    \n",
    "    print('\\n'*3)\n",
    "    print(tabulate(edge_size_group.to_frame(),\n",
    "                   tablefmt=\"grid\", stralign='left', numalign='left',\n",
    "                   headers=['Class {} Edge stats'.format(name)]))\n",
    "    print('\\n'*3)\n",
    "    \n",
    "\n",
    "\n",
    "data[\"input\"] = data.apply(lambda row: nodes_to_input(row.graph, row.target, nx.number_of_nodes(row.graph),\n",
    "                                                                                    w2vmodel.wv), axis=1)\n",
    "print('Writing to file/pandas')\n",
    "pd.to_pickle(data[['input','target']], 'new_dataset_update/data_random.pkl')"
   ]
  },
  {
   "cell_type": "code",
   "execution_count": 202,
   "id": "3a7e44e7",
   "metadata": {},
   "outputs": [],
   "source": [
    "pd.to_pickle(data[['input','target']], 'new_dataset_update/data_random.pkl')\n"
   ]
  },
  {
   "cell_type": "code",
   "execution_count": 5,
   "id": "ff97d0d5",
   "metadata": {},
   "outputs": [],
   "source": [
    "import pickle"
   ]
  },
  {
   "cell_type": "code",
   "execution_count": 6,
   "id": "10e4f5b1",
   "metadata": {},
   "outputs": [],
   "source": [
    "with open('new_dataset_update/data_random.pkl', 'rb') as f:\n",
    "    data = pickle.load(f)"
   ]
  },
  {
   "cell_type": "code",
   "execution_count": 8,
   "id": "8833b8e0",
   "metadata": {},
   "outputs": [
    {
     "data": {
      "text/html": [
       "<div>\n",
       "<style scoped>\n",
       "    .dataframe tbody tr th:only-of-type {\n",
       "        vertical-align: middle;\n",
       "    }\n",
       "\n",
       "    .dataframe tbody tr th {\n",
       "        vertical-align: top;\n",
       "    }\n",
       "\n",
       "    .dataframe thead th {\n",
       "        text-align: right;\n",
       "    }\n",
       "</style>\n",
       "<table border=\"1\" class=\"dataframe\">\n",
       "  <thead>\n",
       "    <tr style=\"text-align: right;\">\n",
       "      <th></th>\n",
       "      <th>input</th>\n",
       "      <th>target</th>\n",
       "    </tr>\n",
       "  </thead>\n",
       "  <tbody>\n",
       "    <tr>\n",
       "      <th>0</th>\n",
       "      <td>[(x, [tensor([ 0.0226, -0.0561, -0.0386,  0.02...</td>\n",
       "      <td>1</td>\n",
       "    </tr>\n",
       "    <tr>\n",
       "      <th>1</th>\n",
       "      <td>[(x, [tensor([ 0.0226, -0.0534, -0.0266,  0.01...</td>\n",
       "      <td>1</td>\n",
       "    </tr>\n",
       "    <tr>\n",
       "      <th>2</th>\n",
       "      <td>[(x, [tensor([ 0.0226, -0.0540, -0.0278,  0.01...</td>\n",
       "      <td>1</td>\n",
       "    </tr>\n",
       "    <tr>\n",
       "      <th>3</th>\n",
       "      <td>[(x, [tensor([ 0.0220, -0.0565, -0.0342,  0.02...</td>\n",
       "      <td>1</td>\n",
       "    </tr>\n",
       "    <tr>\n",
       "      <th>4</th>\n",
       "      <td>[(x, [tensor([ 2.2424e-02, -5.6513e-02, -3.547...</td>\n",
       "      <td>1</td>\n",
       "    </tr>\n",
       "  </tbody>\n",
       "</table>\n",
       "</div>"
      ],
      "text/plain": [
       "                                               input  target\n",
       "0  [(x, [tensor([ 0.0226, -0.0561, -0.0386,  0.02...       1\n",
       "1  [(x, [tensor([ 0.0226, -0.0534, -0.0266,  0.01...       1\n",
       "2  [(x, [tensor([ 0.0226, -0.0540, -0.0278,  0.01...       1\n",
       "3  [(x, [tensor([ 0.0220, -0.0565, -0.0342,  0.02...       1\n",
       "4  [(x, [tensor([ 2.2424e-02, -5.6513e-02, -3.547...       1"
      ]
     },
     "execution_count": 8,
     "metadata": {},
     "output_type": "execute_result"
    }
   ],
   "source": [
    "data.head()"
   ]
  },
  {
   "cell_type": "code",
   "execution_count": 7,
   "id": "122b01a0",
   "metadata": {},
   "outputs": [
    {
     "ename": "AttributeError",
     "evalue": "'DataFrame' object has no attribute 'func'",
     "output_type": "error",
     "traceback": [
      "\u001b[0;31m---------------------------------------------------------------------------\u001b[0m",
      "\u001b[0;31mAttributeError\u001b[0m                            Traceback (most recent call last)",
      "\u001b[0;32m/tmp/ipykernel_2726901/1536323164.py\u001b[0m in \u001b[0;36m<module>\u001b[0;34m\u001b[0m\n\u001b[1;32m      1\u001b[0m \u001b[0mdata1\u001b[0m \u001b[0;34m=\u001b[0m \u001b[0mdata\u001b[0m\u001b[0;34m[\u001b[0m\u001b[0;36m0\u001b[0m\u001b[0;34m:\u001b[0m\u001b[0;36m100\u001b[0m\u001b[0;34m]\u001b[0m\u001b[0;34m\u001b[0m\u001b[0;34m\u001b[0m\u001b[0m\n\u001b[0;32m----> 2\u001b[0;31m \u001b[0mtokens_dataset\u001b[0m \u001b[0;34m=\u001b[0m \u001b[0mdata_util\u001b[0m\u001b[0;34m.\u001b[0m\u001b[0mtokenize\u001b[0m\u001b[0;34m(\u001b[0m\u001b[0mdata1\u001b[0m\u001b[0;34m)\u001b[0m\u001b[0;34m\u001b[0m\u001b[0;34m\u001b[0m\u001b[0m\n\u001b[0m",
      "\u001b[0;32m~/vuln_code/src/data/datamanager.py\u001b[0m in \u001b[0;36mtokenize\u001b[0;34m(data_frame)\u001b[0m\n\u001b[1;32m     48\u001b[0m \u001b[0;34m\u001b[0m\u001b[0m\n\u001b[1;32m     49\u001b[0m \u001b[0;32mdef\u001b[0m \u001b[0mtokenize\u001b[0m\u001b[0;34m(\u001b[0m\u001b[0mdata_frame\u001b[0m\u001b[0;34m:\u001b[0m \u001b[0mpd\u001b[0m\u001b[0;34m.\u001b[0m\u001b[0mDataFrame\u001b[0m\u001b[0;34m)\u001b[0m\u001b[0;34m:\u001b[0m\u001b[0;34m\u001b[0m\u001b[0;34m\u001b[0m\u001b[0m\n\u001b[0;32m---> 50\u001b[0;31m     \u001b[0mdata_frame\u001b[0m\u001b[0;34m.\u001b[0m\u001b[0mfunc\u001b[0m \u001b[0;34m=\u001b[0m \u001b[0mdata_frame\u001b[0m\u001b[0;34m.\u001b[0m\u001b[0mfunc\u001b[0m\u001b[0;34m.\u001b[0m\u001b[0mapply\u001b[0m\u001b[0;34m(\u001b[0m\u001b[0mparse\u001b[0m\u001b[0;34m.\u001b[0m\u001b[0mtokenizer\u001b[0m\u001b[0;34m)\u001b[0m\u001b[0;34m\u001b[0m\u001b[0;34m\u001b[0m\u001b[0m\n\u001b[0m\u001b[1;32m     51\u001b[0m     \u001b[0;31m# Change column name\u001b[0m\u001b[0;34m\u001b[0m\u001b[0;34m\u001b[0m\u001b[0;34m\u001b[0m\u001b[0m\n\u001b[1;32m     52\u001b[0m     \u001b[0mdata_frame\u001b[0m \u001b[0;34m=\u001b[0m \u001b[0mrename\u001b[0m\u001b[0;34m(\u001b[0m\u001b[0mdata_frame\u001b[0m\u001b[0;34m,\u001b[0m \u001b[0;34m'func'\u001b[0m\u001b[0;34m,\u001b[0m \u001b[0;34m'tokens'\u001b[0m\u001b[0;34m)\u001b[0m\u001b[0;34m\u001b[0m\u001b[0;34m\u001b[0m\u001b[0m\n",
      "\u001b[0;32m~/vuln_code/vuln_env/lib/python3.9/site-packages/pandas/core/generic.py\u001b[0m in \u001b[0;36m__getattr__\u001b[0;34m(self, name)\u001b[0m\n\u001b[1;32m   5485\u001b[0m         ):\n\u001b[1;32m   5486\u001b[0m             \u001b[0;32mreturn\u001b[0m \u001b[0mself\u001b[0m\u001b[0;34m[\u001b[0m\u001b[0mname\u001b[0m\u001b[0;34m]\u001b[0m\u001b[0;34m\u001b[0m\u001b[0;34m\u001b[0m\u001b[0m\n\u001b[0;32m-> 5487\u001b[0;31m         \u001b[0;32mreturn\u001b[0m \u001b[0mobject\u001b[0m\u001b[0;34m.\u001b[0m\u001b[0m__getattribute__\u001b[0m\u001b[0;34m(\u001b[0m\u001b[0mself\u001b[0m\u001b[0;34m,\u001b[0m \u001b[0mname\u001b[0m\u001b[0;34m)\u001b[0m\u001b[0;34m\u001b[0m\u001b[0;34m\u001b[0m\u001b[0m\n\u001b[0m\u001b[1;32m   5488\u001b[0m \u001b[0;34m\u001b[0m\u001b[0m\n\u001b[1;32m   5489\u001b[0m     \u001b[0;32mdef\u001b[0m \u001b[0m__setattr__\u001b[0m\u001b[0;34m(\u001b[0m\u001b[0mself\u001b[0m\u001b[0;34m,\u001b[0m \u001b[0mname\u001b[0m\u001b[0;34m:\u001b[0m \u001b[0mstr\u001b[0m\u001b[0;34m,\u001b[0m \u001b[0mvalue\u001b[0m\u001b[0;34m)\u001b[0m \u001b[0;34m->\u001b[0m \u001b[0;32mNone\u001b[0m\u001b[0;34m:\u001b[0m\u001b[0;34m\u001b[0m\u001b[0;34m\u001b[0m\u001b[0m\n",
      "\u001b[0;31mAttributeError\u001b[0m: 'DataFrame' object has no attribute 'func'"
     ]
    }
   ],
   "source": [
    "data1 = data[0:100]\n",
    "tokens_dataset = data_util.tokenize(data1)"
   ]
  },
  {
   "cell_type": "code",
   "execution_count": null,
   "id": "9bedb9ee",
   "metadata": {},
   "outputs": [],
   "source": []
  },
  {
   "cell_type": "markdown",
   "id": "22743764",
   "metadata": {},
   "source": [
    "## After this you can run code to train any other model on this dataset"
   ]
  },
  {
   "cell_type": "code",
   "execution_count": null,
   "id": "59428492",
   "metadata": {},
   "outputs": [],
   "source": []
  },
  {
   "cell_type": "markdown",
   "id": "aa6b8092",
   "metadata": {},
   "source": [
    "### The code below replaces word2vec representation of node level informaion with any type of vector, which includes random, zeros and ones. "
   ]
  },
  {
   "cell_type": "code",
   "execution_count": 7,
   "id": "dd50d987",
   "metadata": {},
   "outputs": [],
   "source": [
    "data = pickle.load(open(\"new_dataset_update/data_random.pkl\",'rb'))"
   ]
  },
  {
   "cell_type": "code",
   "execution_count": 73,
   "id": "2e98399c",
   "metadata": {},
   "outputs": [],
   "source": [
    "#data['input'] = data['input'].apply(lambda x: torch.tensor(np.random.uniform(low=-1, high=1, size=(x.x.shape[0],x.x.shape[1]))))\n",
    "#data['input'] = data['input'].apply(lambda x: torch.tensor(np.random.uniform(low=-2, high=-1, size=(x.x.shape[0],x.x.shape[1]))))\n",
    "'''for index, row in data.iterrows():\n",
    "    d = row[0]\n",
    "    d.y = torch.tensor(d.y, dtype = torch.long)\n",
    "    d.x = torch.tensor(np.random.uniform(low=-1, high=1, size=(d.x.shape[0],d.x.shape[1])))'''"
   ]
  },
  {
   "cell_type": "code",
   "execution_count": 98,
   "id": "e1bfbac0",
   "metadata": {},
   "outputs": [],
   "source": [
    "def rand_emb(x):\n",
    "    data_x = torch.tensor(np.float32(np.random.uniform(low=-1, high=1, size=(x.x.shape[0],x.x.shape[1]))))\n",
    "    return Data(x=data_x, edge_index=x.edge_index, edge_attr=x.edge_attr, y = x.y)"
   ]
  },
  {
   "cell_type": "code",
   "execution_count": 8,
   "id": "959f0a7a",
   "metadata": {},
   "outputs": [],
   "source": [
    "def zeros_emb(x):\n",
    "    data_x = torch.tensor(np.zeros((x.x.shape[0],x.x.shape[1])).astype(np.float32))\n",
    "    return Data(x=data_x, edge_index=x.edge_index, edge_attr=x.edge_attr, y = x.y)"
   ]
  },
  {
   "cell_type": "code",
   "execution_count": 9,
   "id": "06daa9d1",
   "metadata": {},
   "outputs": [
    {
     "ename": "AttributeError",
     "evalue": "'tuple' object has no attribute 'astype'",
     "output_type": "error",
     "traceback": [
      "\u001b[0;31m---------------------------------------------------------------------------\u001b[0m",
      "\u001b[0;31mAttributeError\u001b[0m                            Traceback (most recent call last)",
      "\u001b[0;32m/tmp/ipykernel_2824456/4173952860.py\u001b[0m in \u001b[0;36m<module>\u001b[0;34m\u001b[0m\n\u001b[0;32m----> 1\u001b[0;31m \u001b[0mdata\u001b[0m\u001b[0;34m[\u001b[0m\u001b[0;34m'input'\u001b[0m\u001b[0;34m]\u001b[0m \u001b[0;34m=\u001b[0m \u001b[0mdata\u001b[0m\u001b[0;34m[\u001b[0m\u001b[0;34m'input'\u001b[0m\u001b[0;34m]\u001b[0m\u001b[0;34m.\u001b[0m\u001b[0mapply\u001b[0m\u001b[0;34m(\u001b[0m\u001b[0;32mlambda\u001b[0m \u001b[0mx\u001b[0m\u001b[0;34m:\u001b[0m \u001b[0mzeros_emb\u001b[0m\u001b[0;34m(\u001b[0m\u001b[0mx\u001b[0m\u001b[0;34m)\u001b[0m\u001b[0;34m)\u001b[0m\u001b[0;34m\u001b[0m\u001b[0;34m\u001b[0m\u001b[0m\n\u001b[0m\u001b[1;32m      2\u001b[0m \u001b[0mpd\u001b[0m\u001b[0;34m.\u001b[0m\u001b[0mto_pickle\u001b[0m\u001b[0;34m(\u001b[0m\u001b[0mdata\u001b[0m\u001b[0;34m,\u001b[0m \u001b[0;34m'new_dataset_update/data_random_zero_emb.pkl'\u001b[0m\u001b[0;34m)\u001b[0m\u001b[0;34m\u001b[0m\u001b[0;34m\u001b[0m\u001b[0m\n",
      "\u001b[0;32m~/vuln_code/vuln_env/lib/python3.9/site-packages/pandas/core/series.py\u001b[0m in \u001b[0;36mapply\u001b[0;34m(self, func, convert_dtype, args, **kwargs)\u001b[0m\n\u001b[1;32m   4355\u001b[0m         \u001b[0mdtype\u001b[0m\u001b[0;34m:\u001b[0m \u001b[0mfloat64\u001b[0m\u001b[0;34m\u001b[0m\u001b[0;34m\u001b[0m\u001b[0m\n\u001b[1;32m   4356\u001b[0m         \"\"\"\n\u001b[0;32m-> 4357\u001b[0;31m         \u001b[0;32mreturn\u001b[0m \u001b[0mSeriesApply\u001b[0m\u001b[0;34m(\u001b[0m\u001b[0mself\u001b[0m\u001b[0;34m,\u001b[0m \u001b[0mfunc\u001b[0m\u001b[0;34m,\u001b[0m \u001b[0mconvert_dtype\u001b[0m\u001b[0;34m,\u001b[0m \u001b[0margs\u001b[0m\u001b[0;34m,\u001b[0m \u001b[0mkwargs\u001b[0m\u001b[0;34m)\u001b[0m\u001b[0;34m.\u001b[0m\u001b[0mapply\u001b[0m\u001b[0;34m(\u001b[0m\u001b[0;34m)\u001b[0m\u001b[0;34m\u001b[0m\u001b[0;34m\u001b[0m\u001b[0m\n\u001b[0m\u001b[1;32m   4358\u001b[0m \u001b[0;34m\u001b[0m\u001b[0m\n\u001b[1;32m   4359\u001b[0m     def _reduce(\n",
      "\u001b[0;32m~/vuln_code/vuln_env/lib/python3.9/site-packages/pandas/core/apply.py\u001b[0m in \u001b[0;36mapply\u001b[0;34m(self)\u001b[0m\n\u001b[1;32m   1041\u001b[0m             \u001b[0;32mreturn\u001b[0m \u001b[0mself\u001b[0m\u001b[0;34m.\u001b[0m\u001b[0mapply_str\u001b[0m\u001b[0;34m(\u001b[0m\u001b[0;34m)\u001b[0m\u001b[0;34m\u001b[0m\u001b[0;34m\u001b[0m\u001b[0m\n\u001b[1;32m   1042\u001b[0m \u001b[0;34m\u001b[0m\u001b[0m\n\u001b[0;32m-> 1043\u001b[0;31m         \u001b[0;32mreturn\u001b[0m \u001b[0mself\u001b[0m\u001b[0;34m.\u001b[0m\u001b[0mapply_standard\u001b[0m\u001b[0;34m(\u001b[0m\u001b[0;34m)\u001b[0m\u001b[0;34m\u001b[0m\u001b[0;34m\u001b[0m\u001b[0m\n\u001b[0m\u001b[1;32m   1044\u001b[0m \u001b[0;34m\u001b[0m\u001b[0m\n\u001b[1;32m   1045\u001b[0m     \u001b[0;32mdef\u001b[0m \u001b[0magg\u001b[0m\u001b[0;34m(\u001b[0m\u001b[0mself\u001b[0m\u001b[0;34m)\u001b[0m\u001b[0;34m:\u001b[0m\u001b[0;34m\u001b[0m\u001b[0;34m\u001b[0m\u001b[0m\n",
      "\u001b[0;32m~/vuln_code/vuln_env/lib/python3.9/site-packages/pandas/core/apply.py\u001b[0m in \u001b[0;36mapply_standard\u001b[0;34m(self)\u001b[0m\n\u001b[1;32m   1097\u001b[0m                 \u001b[0;31m# List[Union[Callable[..., Any], str]]]]]\"; expected\u001b[0m\u001b[0;34m\u001b[0m\u001b[0;34m\u001b[0m\u001b[0;34m\u001b[0m\u001b[0m\n\u001b[1;32m   1098\u001b[0m                 \u001b[0;31m# \"Callable[[Any], Any]\"\u001b[0m\u001b[0;34m\u001b[0m\u001b[0;34m\u001b[0m\u001b[0;34m\u001b[0m\u001b[0m\n\u001b[0;32m-> 1099\u001b[0;31m                 mapped = lib.map_infer(\n\u001b[0m\u001b[1;32m   1100\u001b[0m                     \u001b[0mvalues\u001b[0m\u001b[0;34m,\u001b[0m\u001b[0;34m\u001b[0m\u001b[0;34m\u001b[0m\u001b[0m\n\u001b[1;32m   1101\u001b[0m                     \u001b[0mf\u001b[0m\u001b[0;34m,\u001b[0m  \u001b[0;31m# type: ignore[arg-type]\u001b[0m\u001b[0;34m\u001b[0m\u001b[0;34m\u001b[0m\u001b[0m\n",
      "\u001b[0;32m~/vuln_code/vuln_env/lib/python3.9/site-packages/pandas/_libs/lib.pyx\u001b[0m in \u001b[0;36mpandas._libs.lib.map_infer\u001b[0;34m()\u001b[0m\n",
      "\u001b[0;32m/tmp/ipykernel_2824456/4173952860.py\u001b[0m in \u001b[0;36m<lambda>\u001b[0;34m(x)\u001b[0m\n\u001b[0;32m----> 1\u001b[0;31m \u001b[0mdata\u001b[0m\u001b[0;34m[\u001b[0m\u001b[0;34m'input'\u001b[0m\u001b[0;34m]\u001b[0m \u001b[0;34m=\u001b[0m \u001b[0mdata\u001b[0m\u001b[0;34m[\u001b[0m\u001b[0;34m'input'\u001b[0m\u001b[0;34m]\u001b[0m\u001b[0;34m.\u001b[0m\u001b[0mapply\u001b[0m\u001b[0;34m(\u001b[0m\u001b[0;32mlambda\u001b[0m \u001b[0mx\u001b[0m\u001b[0;34m:\u001b[0m \u001b[0mzeros_emb\u001b[0m\u001b[0;34m(\u001b[0m\u001b[0mx\u001b[0m\u001b[0;34m)\u001b[0m\u001b[0;34m)\u001b[0m\u001b[0;34m\u001b[0m\u001b[0;34m\u001b[0m\u001b[0m\n\u001b[0m\u001b[1;32m      2\u001b[0m \u001b[0mpd\u001b[0m\u001b[0;34m.\u001b[0m\u001b[0mto_pickle\u001b[0m\u001b[0;34m(\u001b[0m\u001b[0mdata\u001b[0m\u001b[0;34m,\u001b[0m \u001b[0;34m'new_dataset_update/data_random_zero_emb.pkl'\u001b[0m\u001b[0;34m)\u001b[0m\u001b[0;34m\u001b[0m\u001b[0;34m\u001b[0m\u001b[0m\n",
      "\u001b[0;32m/tmp/ipykernel_2824456/3807096760.py\u001b[0m in \u001b[0;36mzeros_emb\u001b[0;34m(x)\u001b[0m\n\u001b[1;32m      1\u001b[0m \u001b[0;32mdef\u001b[0m \u001b[0mzeros_emb\u001b[0m\u001b[0;34m(\u001b[0m\u001b[0mx\u001b[0m\u001b[0;34m)\u001b[0m\u001b[0;34m:\u001b[0m\u001b[0;34m\u001b[0m\u001b[0;34m\u001b[0m\u001b[0m\n\u001b[0;32m----> 2\u001b[0;31m     \u001b[0mdata_x\u001b[0m \u001b[0;34m=\u001b[0m \u001b[0mtorch\u001b[0m\u001b[0;34m.\u001b[0m\u001b[0mtensor\u001b[0m\u001b[0;34m(\u001b[0m\u001b[0mnp\u001b[0m\u001b[0;34m.\u001b[0m\u001b[0mzeros\u001b[0m\u001b[0;34m(\u001b[0m\u001b[0;34m(\u001b[0m\u001b[0mx\u001b[0m\u001b[0;34m.\u001b[0m\u001b[0mx\u001b[0m\u001b[0;34m.\u001b[0m\u001b[0mshape\u001b[0m\u001b[0;34m[\u001b[0m\u001b[0;36m0\u001b[0m\u001b[0;34m]\u001b[0m\u001b[0;34m,\u001b[0m\u001b[0mx\u001b[0m\u001b[0;34m.\u001b[0m\u001b[0mx\u001b[0m\u001b[0;34m.\u001b[0m\u001b[0mshape\u001b[0m\u001b[0;34m[\u001b[0m\u001b[0;36m1\u001b[0m\u001b[0;34m]\u001b[0m\u001b[0;34m)\u001b[0m\u001b[0;34m.\u001b[0m\u001b[0mastype\u001b[0m\u001b[0;34m(\u001b[0m\u001b[0mnp\u001b[0m\u001b[0;34m.\u001b[0m\u001b[0mfloat32\u001b[0m\u001b[0;34m)\u001b[0m\u001b[0;34m)\u001b[0m\u001b[0;34m)\u001b[0m\u001b[0;34m\u001b[0m\u001b[0;34m\u001b[0m\u001b[0m\n\u001b[0m\u001b[1;32m      3\u001b[0m     \u001b[0;32mreturn\u001b[0m \u001b[0mData\u001b[0m\u001b[0;34m(\u001b[0m\u001b[0mx\u001b[0m\u001b[0;34m=\u001b[0m\u001b[0mdata_x\u001b[0m\u001b[0;34m,\u001b[0m \u001b[0medge_index\u001b[0m\u001b[0;34m=\u001b[0m\u001b[0mx\u001b[0m\u001b[0;34m.\u001b[0m\u001b[0medge_index\u001b[0m\u001b[0;34m,\u001b[0m \u001b[0medge_attr\u001b[0m\u001b[0;34m=\u001b[0m\u001b[0mx\u001b[0m\u001b[0;34m.\u001b[0m\u001b[0medge_attr\u001b[0m\u001b[0;34m,\u001b[0m \u001b[0my\u001b[0m \u001b[0;34m=\u001b[0m \u001b[0mx\u001b[0m\u001b[0;34m.\u001b[0m\u001b[0my\u001b[0m\u001b[0;34m)\u001b[0m\u001b[0;34m\u001b[0m\u001b[0;34m\u001b[0m\u001b[0m\n",
      "\u001b[0;31mAttributeError\u001b[0m: 'tuple' object has no attribute 'astype'"
     ]
    }
   ],
   "source": [
    "data['input'] = data['input'].apply(lambda x: zeros_emb(x))\n",
    "pd.to_pickle(data, 'new_dataset_update/data_random_zero_emb.pkl')"
   ]
  },
  {
   "cell_type": "markdown",
   "id": "e89f87f9",
   "metadata": {},
   "source": [
    "### Devign model on new_dataset"
   ]
  },
  {
   "cell_type": "code",
   "execution_count": 13,
   "id": "30dfe530",
   "metadata": {},
   "outputs": [],
   "source": [
    "import src.data as data_util\n",
    "import src.process as process\n",
    "import pickle, json, torch, configs"
   ]
  },
  {
   "cell_type": "code",
   "execution_count": 218,
   "id": "84f8d565",
   "metadata": {},
   "outputs": [],
   "source": [
    "def pad_x(x, nodes_dim, w2v_size):\n",
    "    new_x = torch.zeros(nodes_dim, w2v_size).float()\n",
    "    new_x[:x.x.size(0), :] = x.x\n",
    "    x.x = new_x\n",
    "    return x\n",
    "\n",
    "def pad_x_keep(x, nodes_dim, w2v_size):\n",
    "    if x.x.shape[0]<=500:\n",
    "        new_x = torch.zeros(nodes_dim, w2v_size).float()\n",
    "        new_x[:x.x.size(0), :] = x.x\n",
    "        x.x = new_x\n",
    "    elif x.edge_index[0].shape[0]>500:\n",
    "        x.x           = x.x[:nodes_dim,:]\n",
    "        edge_index    = x.edge_index\n",
    "        node_edge     = torch.logical_and(edge_index[0]<nodes_dim, edge_index[1]<nodes_dim)\n",
    "        a_index       = torch.tensor([np.array(edge_index[0][node_edge]), np.array(edge_index[0][node_edge])])\n",
    "        x.edge_attr   = x.edge_attr[node_edge]\n",
    "    else:\n",
    "        x.x = x.x[:nodes_dim,:]\n",
    "    return x\n",
    "\n",
    "#data = pd.read_pickle(data[['input','target']], 'new_dataset_update/data_random.pkl')"
   ]
  },
  {
   "cell_type": "code",
   "execution_count": 219,
   "id": "c72a0b25",
   "metadata": {},
   "outputs": [],
   "source": [
    "with open('new_dataset_update/data_random.pkl', 'rb') as f:\n",
    "    data = pickle.load(f)"
   ]
  },
  {
   "cell_type": "code",
   "execution_count": 220,
   "id": "73e4f119",
   "metadata": {},
   "outputs": [],
   "source": [
    "w2v_size  = 200\n",
    "#nodes_dim = int(group.apply(lambda g: nx.number_of_nodes(g.graph),axis=1).describe()['max'])\n",
    "nodes_dim = 500"
   ]
  },
  {
   "cell_type": "code",
   "execution_count": 221,
   "id": "6c545b4f",
   "metadata": {},
   "outputs": [
    {
     "name": "stdout",
     "output_type": "stream",
     "text": [
      "new fc1 2000 new fc2 size 1000\n",
      "The model has 560,272 trainable parameters\n",
      "Splitting Dataset\n"
     ]
    },
    {
     "name": "stderr",
     "output_type": "stream",
     "text": [
      "/home/ammar/vuln_code/vuln_env/lib/python3.9/site-packages/torch_geometric/deprecation.py:13: UserWarning: 'data.DataLoader' is deprecated, use 'loader.DataLoader' instead\n",
      "  warnings.warn(out)\n"
     ]
    },
    {
     "ename": "IndexError",
     "evalue": "index out of range in self",
     "output_type": "error",
     "traceback": [
      "\u001b[0;31m---------------------------------------------------------------------------\u001b[0m",
      "\u001b[0;31mIndexError\u001b[0m                                Traceback (most recent call last)",
      "\u001b[0;32m/tmp/ipykernel_2698883/265087178.py\u001b[0m in \u001b[0;36m<module>\u001b[0;34m\u001b[0m\n\u001b[1;32m     37\u001b[0m \u001b[0mtrain_loader_step\u001b[0m \u001b[0;34m=\u001b[0m \u001b[0mprocess\u001b[0m\u001b[0;34m.\u001b[0m\u001b[0mLoaderStep\u001b[0m\u001b[0;34m(\u001b[0m\u001b[0;34m\"Train\"\u001b[0m\u001b[0;34m,\u001b[0m \u001b[0mtrain_loader\u001b[0m\u001b[0;34m,\u001b[0m \u001b[0mDEVICE\u001b[0m\u001b[0;34m)\u001b[0m\u001b[0;34m\u001b[0m\u001b[0;34m\u001b[0m\u001b[0m\n\u001b[1;32m     38\u001b[0m \u001b[0mval_loader_step\u001b[0m \u001b[0;34m=\u001b[0m \u001b[0mprocess\u001b[0m\u001b[0;34m.\u001b[0m\u001b[0mLoaderStep\u001b[0m\u001b[0;34m(\u001b[0m\u001b[0;34m\"Validation\"\u001b[0m\u001b[0;34m,\u001b[0m \u001b[0mval_loader\u001b[0m\u001b[0;34m,\u001b[0m \u001b[0mDEVICE\u001b[0m\u001b[0;34m)\u001b[0m\u001b[0;34m\u001b[0m\u001b[0;34m\u001b[0m\u001b[0m\n\u001b[0;32m---> 39\u001b[0;31m \u001b[0mtrain\u001b[0m\u001b[0;34m(\u001b[0m\u001b[0mtrain_loader_step\u001b[0m\u001b[0;34m,\u001b[0m \u001b[0mval_loader_step\u001b[0m\u001b[0;34m)\u001b[0m\u001b[0;34m\u001b[0m\u001b[0;34m\u001b[0m\u001b[0m\n\u001b[0m\u001b[1;32m     40\u001b[0m \u001b[0mprint\u001b[0m\u001b[0;34m(\u001b[0m\u001b[0;34m'Finish Training for {}'\u001b[0m\u001b[0;34m.\u001b[0m\u001b[0mformat\u001b[0m\u001b[0;34m(\u001b[0m\u001b[0mname\u001b[0m\u001b[0;34m)\u001b[0m\u001b[0;34m)\u001b[0m\u001b[0;34m\u001b[0m\u001b[0;34m\u001b[0m\u001b[0m\n\u001b[1;32m     41\u001b[0m \u001b[0mspinner\u001b[0m\u001b[0;34m.\u001b[0m\u001b[0mstop\u001b[0m\u001b[0;34m(\u001b[0m\u001b[0;34m)\u001b[0m\u001b[0;34m\u001b[0m\u001b[0;34m\u001b[0m\u001b[0m\n",
      "\u001b[0;32m~/vuln_code/src/process/modeling.py\u001b[0m in \u001b[0;36m__call__\u001b[0;34m(self, train_loader_step, val_loader_step, early_stopping)\u001b[0m\n\u001b[1;32m     15\u001b[0m         \u001b[0;32mfor\u001b[0m \u001b[0mepoch\u001b[0m \u001b[0;32min\u001b[0m \u001b[0mrange\u001b[0m\u001b[0;34m(\u001b[0m\u001b[0mself\u001b[0m\u001b[0;34m.\u001b[0m\u001b[0mepochs\u001b[0m\u001b[0;34m)\u001b[0m\u001b[0;34m:\u001b[0m\u001b[0;34m\u001b[0m\u001b[0;34m\u001b[0m\u001b[0m\n\u001b[1;32m     16\u001b[0m             \u001b[0mself\u001b[0m\u001b[0;34m.\u001b[0m\u001b[0mstep\u001b[0m\u001b[0;34m.\u001b[0m\u001b[0mtrain\u001b[0m\u001b[0;34m(\u001b[0m\u001b[0;34m)\u001b[0m\u001b[0;34m\u001b[0m\u001b[0;34m\u001b[0m\u001b[0m\n\u001b[0;32m---> 17\u001b[0;31m             \u001b[0mtrain_stats\u001b[0m \u001b[0;34m=\u001b[0m \u001b[0mtrain_loader_step\u001b[0m\u001b[0;34m(\u001b[0m\u001b[0mself\u001b[0m\u001b[0;34m.\u001b[0m\u001b[0mstep\u001b[0m\u001b[0;34m)\u001b[0m\u001b[0;34m\u001b[0m\u001b[0;34m\u001b[0m\u001b[0m\n\u001b[0m\u001b[1;32m     18\u001b[0m             \u001b[0mself\u001b[0m\u001b[0;34m.\u001b[0m\u001b[0mhistory\u001b[0m\u001b[0;34m(\u001b[0m\u001b[0mtrain_stats\u001b[0m\u001b[0;34m,\u001b[0m \u001b[0mepoch\u001b[0m \u001b[0;34m+\u001b[0m \u001b[0;36m1\u001b[0m\u001b[0;34m)\u001b[0m\u001b[0;34m\u001b[0m\u001b[0;34m\u001b[0m\u001b[0m\n\u001b[1;32m     19\u001b[0m \u001b[0;34m\u001b[0m\u001b[0m\n",
      "\u001b[0;32m~/vuln_code/src/process/loader_step.py\u001b[0m in \u001b[0;36m__call__\u001b[0;34m(self, step)\u001b[0m\n\u001b[1;32m     14\u001b[0m         \u001b[0;32mfor\u001b[0m \u001b[0mi\u001b[0m\u001b[0;34m,\u001b[0m \u001b[0mbatch\u001b[0m \u001b[0;32min\u001b[0m \u001b[0menumerate\u001b[0m\u001b[0;34m(\u001b[0m\u001b[0mself\u001b[0m\u001b[0;34m.\u001b[0m\u001b[0mloader\u001b[0m\u001b[0;34m)\u001b[0m\u001b[0;34m:\u001b[0m\u001b[0;34m\u001b[0m\u001b[0;34m\u001b[0m\u001b[0m\n\u001b[1;32m     15\u001b[0m             \u001b[0mbatch\u001b[0m\u001b[0;34m.\u001b[0m\u001b[0mto\u001b[0m\u001b[0;34m(\u001b[0m\u001b[0mself\u001b[0m\u001b[0;34m.\u001b[0m\u001b[0mdevice\u001b[0m\u001b[0;34m)\u001b[0m\u001b[0;34m\u001b[0m\u001b[0;34m\u001b[0m\u001b[0m\n\u001b[0;32m---> 16\u001b[0;31m             \u001b[0mstat\u001b[0m\u001b[0;34m:\u001b[0m \u001b[0mstats\u001b[0m\u001b[0;34m.\u001b[0m\u001b[0mStat\u001b[0m \u001b[0;34m=\u001b[0m \u001b[0mstep\u001b[0m\u001b[0;34m(\u001b[0m\u001b[0mi\u001b[0m\u001b[0;34m,\u001b[0m \u001b[0mbatch\u001b[0m\u001b[0;34m,\u001b[0m \u001b[0mbatch\u001b[0m\u001b[0;34m.\u001b[0m\u001b[0my\u001b[0m\u001b[0;34m)\u001b[0m\u001b[0;34m\u001b[0m\u001b[0;34m\u001b[0m\u001b[0m\n\u001b[0m\u001b[1;32m     17\u001b[0m             \u001b[0mself\u001b[0m\u001b[0;34m.\u001b[0m\u001b[0mstats\u001b[0m\u001b[0;34m(\u001b[0m\u001b[0mstat\u001b[0m\u001b[0;34m)\u001b[0m\u001b[0;34m\u001b[0m\u001b[0;34m\u001b[0m\u001b[0m\n\u001b[1;32m     18\u001b[0m \u001b[0;34m\u001b[0m\u001b[0m\n",
      "\u001b[0;32m~/vuln_code/src/process/step.py\u001b[0m in \u001b[0;36m__call__\u001b[0;34m(self, i, x, y)\u001b[0m\n\u001b[1;32m     17\u001b[0m \u001b[0;34m\u001b[0m\u001b[0m\n\u001b[1;32m     18\u001b[0m     \u001b[0;32mdef\u001b[0m \u001b[0m__call__\u001b[0m\u001b[0;34m(\u001b[0m\u001b[0mself\u001b[0m\u001b[0;34m,\u001b[0m \u001b[0mi\u001b[0m\u001b[0;34m,\u001b[0m \u001b[0mx\u001b[0m\u001b[0;34m,\u001b[0m \u001b[0my\u001b[0m\u001b[0;34m)\u001b[0m\u001b[0;34m:\u001b[0m\u001b[0;34m\u001b[0m\u001b[0;34m\u001b[0m\u001b[0m\n\u001b[0;32m---> 19\u001b[0;31m         \u001b[0mout\u001b[0m \u001b[0;34m=\u001b[0m \u001b[0mself\u001b[0m\u001b[0;34m.\u001b[0m\u001b[0mmodel\u001b[0m\u001b[0;34m(\u001b[0m\u001b[0mx\u001b[0m\u001b[0;34m)\u001b[0m\u001b[0;34m\u001b[0m\u001b[0;34m\u001b[0m\u001b[0m\n\u001b[0m\u001b[1;32m     20\u001b[0m         \u001b[0mloss\u001b[0m \u001b[0;34m=\u001b[0m \u001b[0mself\u001b[0m\u001b[0;34m.\u001b[0m\u001b[0mcriterion\u001b[0m\u001b[0;34m(\u001b[0m\u001b[0mout\u001b[0m\u001b[0;34m,\u001b[0m \u001b[0my\u001b[0m\u001b[0;34m.\u001b[0m\u001b[0mfloat\u001b[0m\u001b[0;34m(\u001b[0m\u001b[0;34m)\u001b[0m\u001b[0;34m)\u001b[0m\u001b[0;34m\u001b[0m\u001b[0;34m\u001b[0m\u001b[0m\n\u001b[1;32m     21\u001b[0m         \u001b[0macc\u001b[0m \u001b[0;34m=\u001b[0m \u001b[0msoftmax_accuracy\u001b[0m\u001b[0;34m(\u001b[0m\u001b[0mout\u001b[0m\u001b[0;34m,\u001b[0m \u001b[0my\u001b[0m\u001b[0;34m.\u001b[0m\u001b[0mfloat\u001b[0m\u001b[0;34m(\u001b[0m\u001b[0;34m)\u001b[0m\u001b[0;34m)\u001b[0m\u001b[0;34m\u001b[0m\u001b[0;34m\u001b[0m\u001b[0m\n",
      "\u001b[0;32m~/vuln_code/vuln_env/lib/python3.9/site-packages/torch/nn/modules/module.py\u001b[0m in \u001b[0;36m_call_impl\u001b[0;34m(self, *input, **kwargs)\u001b[0m\n\u001b[1;32m   1049\u001b[0m         if not (self._backward_hooks or self._forward_hooks or self._forward_pre_hooks or _global_backward_hooks\n\u001b[1;32m   1050\u001b[0m                 or _global_forward_hooks or _global_forward_pre_hooks):\n\u001b[0;32m-> 1051\u001b[0;31m             \u001b[0;32mreturn\u001b[0m \u001b[0mforward_call\u001b[0m\u001b[0;34m(\u001b[0m\u001b[0;34m*\u001b[0m\u001b[0minput\u001b[0m\u001b[0;34m,\u001b[0m \u001b[0;34m**\u001b[0m\u001b[0mkwargs\u001b[0m\u001b[0;34m)\u001b[0m\u001b[0;34m\u001b[0m\u001b[0;34m\u001b[0m\u001b[0m\n\u001b[0m\u001b[1;32m   1052\u001b[0m         \u001b[0;31m# Do not call functions when jit is used\u001b[0m\u001b[0;34m\u001b[0m\u001b[0;34m\u001b[0m\u001b[0;34m\u001b[0m\u001b[0m\n\u001b[1;32m   1053\u001b[0m         \u001b[0mfull_backward_hooks\u001b[0m\u001b[0;34m,\u001b[0m \u001b[0mnon_full_backward_hooks\u001b[0m \u001b[0;34m=\u001b[0m \u001b[0;34m[\u001b[0m\u001b[0;34m]\u001b[0m\u001b[0;34m,\u001b[0m \u001b[0;34m[\u001b[0m\u001b[0;34m]\u001b[0m\u001b[0;34m\u001b[0m\u001b[0;34m\u001b[0m\u001b[0m\n",
      "\u001b[0;32m~/vuln_code/src/process/model.py\u001b[0m in \u001b[0;36mforward\u001b[0;34m(self, data)\u001b[0m\n\u001b[1;32m    103\u001b[0m         \u001b[0mx\u001b[0m\u001b[0;34m,\u001b[0m \u001b[0medge_index\u001b[0m \u001b[0;34m=\u001b[0m \u001b[0mdata\u001b[0m\u001b[0;34m.\u001b[0m\u001b[0mx\u001b[0m\u001b[0;34m,\u001b[0m \u001b[0mdata\u001b[0m\u001b[0;34m.\u001b[0m\u001b[0medge_index\u001b[0m\u001b[0;34m\u001b[0m\u001b[0;34m\u001b[0m\u001b[0m\n\u001b[1;32m    104\u001b[0m         \u001b[0;31m#print('batch size', x.size())\u001b[0m\u001b[0;34m\u001b[0m\u001b[0;34m\u001b[0m\u001b[0;34m\u001b[0m\u001b[0m\n\u001b[0;32m--> 105\u001b[0;31m         \u001b[0mx\u001b[0m \u001b[0;34m=\u001b[0m \u001b[0mself\u001b[0m\u001b[0;34m.\u001b[0m\u001b[0mggc\u001b[0m\u001b[0;34m(\u001b[0m\u001b[0mx\u001b[0m\u001b[0;34m,\u001b[0m \u001b[0medge_index\u001b[0m\u001b[0;34m)\u001b[0m\u001b[0;34m\u001b[0m\u001b[0;34m\u001b[0m\u001b[0m\n\u001b[0m\u001b[1;32m    106\u001b[0m         \u001b[0;31m#print('ggc output size', x.size())\u001b[0m\u001b[0;34m\u001b[0m\u001b[0;34m\u001b[0m\u001b[0;34m\u001b[0m\u001b[0m\n\u001b[1;32m    107\u001b[0m        \u001b[0;31m# print('conv data.x', data.x.size())\u001b[0m\u001b[0;34m\u001b[0m\u001b[0;34m\u001b[0m\u001b[0;34m\u001b[0m\u001b[0m\n",
      "\u001b[0;32m~/vuln_code/vuln_env/lib/python3.9/site-packages/torch/nn/modules/module.py\u001b[0m in \u001b[0;36m_call_impl\u001b[0;34m(self, *input, **kwargs)\u001b[0m\n\u001b[1;32m   1049\u001b[0m         if not (self._backward_hooks or self._forward_hooks or self._forward_pre_hooks or _global_backward_hooks\n\u001b[1;32m   1050\u001b[0m                 or _global_forward_hooks or _global_forward_pre_hooks):\n\u001b[0;32m-> 1051\u001b[0;31m             \u001b[0;32mreturn\u001b[0m \u001b[0mforward_call\u001b[0m\u001b[0;34m(\u001b[0m\u001b[0;34m*\u001b[0m\u001b[0minput\u001b[0m\u001b[0;34m,\u001b[0m \u001b[0;34m**\u001b[0m\u001b[0mkwargs\u001b[0m\u001b[0;34m)\u001b[0m\u001b[0;34m\u001b[0m\u001b[0;34m\u001b[0m\u001b[0m\n\u001b[0m\u001b[1;32m   1052\u001b[0m         \u001b[0;31m# Do not call functions when jit is used\u001b[0m\u001b[0;34m\u001b[0m\u001b[0;34m\u001b[0m\u001b[0;34m\u001b[0m\u001b[0m\n\u001b[1;32m   1053\u001b[0m         \u001b[0mfull_backward_hooks\u001b[0m\u001b[0;34m,\u001b[0m \u001b[0mnon_full_backward_hooks\u001b[0m \u001b[0;34m=\u001b[0m \u001b[0;34m[\u001b[0m\u001b[0;34m]\u001b[0m\u001b[0;34m,\u001b[0m \u001b[0;34m[\u001b[0m\u001b[0;34m]\u001b[0m\u001b[0;34m\u001b[0m\u001b[0;34m\u001b[0m\u001b[0m\n",
      "\u001b[0;32m~/vuln_code/vuln_env/lib/python3.9/site-packages/torch_geometric/nn/conv/gated_graph_conv.py\u001b[0m in \u001b[0;36mforward\u001b[0;34m(self, x, edge_index, edge_weight)\u001b[0m\n\u001b[1;32m     70\u001b[0m             \u001b[0mm\u001b[0m \u001b[0;34m=\u001b[0m \u001b[0mtorch\u001b[0m\u001b[0;34m.\u001b[0m\u001b[0mmatmul\u001b[0m\u001b[0;34m(\u001b[0m\u001b[0mx\u001b[0m\u001b[0;34m,\u001b[0m \u001b[0mself\u001b[0m\u001b[0;34m.\u001b[0m\u001b[0mweight\u001b[0m\u001b[0;34m[\u001b[0m\u001b[0mi\u001b[0m\u001b[0;34m]\u001b[0m\u001b[0;34m)\u001b[0m\u001b[0;34m\u001b[0m\u001b[0;34m\u001b[0m\u001b[0m\n\u001b[1;32m     71\u001b[0m             \u001b[0;31m# propagate_type: (x: Tensor, edge_weight: OptTensor)\u001b[0m\u001b[0;34m\u001b[0m\u001b[0;34m\u001b[0m\u001b[0;34m\u001b[0m\u001b[0m\n\u001b[0;32m---> 72\u001b[0;31m             m = self.propagate(edge_index, x=m, edge_weight=edge_weight,\n\u001b[0m\u001b[1;32m     73\u001b[0m                                size=None)\n\u001b[1;32m     74\u001b[0m             \u001b[0mx\u001b[0m \u001b[0;34m=\u001b[0m \u001b[0mself\u001b[0m\u001b[0;34m.\u001b[0m\u001b[0mrnn\u001b[0m\u001b[0;34m(\u001b[0m\u001b[0mm\u001b[0m\u001b[0;34m,\u001b[0m \u001b[0mx\u001b[0m\u001b[0;34m)\u001b[0m\u001b[0;34m\u001b[0m\u001b[0;34m\u001b[0m\u001b[0m\n",
      "\u001b[0;32m~/vuln_code/vuln_env/lib/python3.9/site-packages/torch_geometric/nn/conv/message_passing.py\u001b[0m in \u001b[0;36mpropagate\u001b[0;34m(self, edge_index, size, **kwargs)\u001b[0m\n\u001b[1;32m    259\u001b[0m         \u001b[0;31m# Otherwise, run both functions in separation.\u001b[0m\u001b[0;34m\u001b[0m\u001b[0;34m\u001b[0m\u001b[0;34m\u001b[0m\u001b[0m\n\u001b[1;32m    260\u001b[0m         \u001b[0;32melif\u001b[0m \u001b[0misinstance\u001b[0m\u001b[0;34m(\u001b[0m\u001b[0medge_index\u001b[0m\u001b[0;34m,\u001b[0m \u001b[0mTensor\u001b[0m\u001b[0;34m)\u001b[0m \u001b[0;32mor\u001b[0m \u001b[0;32mnot\u001b[0m \u001b[0mself\u001b[0m\u001b[0;34m.\u001b[0m\u001b[0mfuse\u001b[0m\u001b[0;34m:\u001b[0m\u001b[0;34m\u001b[0m\u001b[0;34m\u001b[0m\u001b[0m\n\u001b[0;32m--> 261\u001b[0;31m             coll_dict = self.__collect__(self.__user_args__, edge_index, size,\n\u001b[0m\u001b[1;32m    262\u001b[0m                                          kwargs)\n\u001b[1;32m    263\u001b[0m \u001b[0;34m\u001b[0m\u001b[0m\n",
      "\u001b[0;32m~/vuln_code/vuln_env/lib/python3.9/site-packages/torch_geometric/nn/conv/message_passing.py\u001b[0m in \u001b[0;36m__collect__\u001b[0;34m(self, args, edge_index, size, kwargs)\u001b[0m\n\u001b[1;32m    169\u001b[0m                 \u001b[0;32mif\u001b[0m \u001b[0misinstance\u001b[0m\u001b[0;34m(\u001b[0m\u001b[0mdata\u001b[0m\u001b[0;34m,\u001b[0m \u001b[0mTensor\u001b[0m\u001b[0;34m)\u001b[0m\u001b[0;34m:\u001b[0m\u001b[0;34m\u001b[0m\u001b[0;34m\u001b[0m\u001b[0m\n\u001b[1;32m    170\u001b[0m                     \u001b[0mself\u001b[0m\u001b[0;34m.\u001b[0m\u001b[0m__set_size__\u001b[0m\u001b[0;34m(\u001b[0m\u001b[0msize\u001b[0m\u001b[0;34m,\u001b[0m \u001b[0mdim\u001b[0m\u001b[0;34m,\u001b[0m \u001b[0mdata\u001b[0m\u001b[0;34m)\u001b[0m\u001b[0;34m\u001b[0m\u001b[0;34m\u001b[0m\u001b[0m\n\u001b[0;32m--> 171\u001b[0;31m                     data = self.__lift__(data, edge_index,\n\u001b[0m\u001b[1;32m    172\u001b[0m                                          j if arg[-2:] == '_j' else i)\n\u001b[1;32m    173\u001b[0m \u001b[0;34m\u001b[0m\u001b[0m\n",
      "\u001b[0;32m~/vuln_code/vuln_env/lib/python3.9/site-packages/torch_geometric/nn/conv/message_passing.py\u001b[0m in \u001b[0;36m__lift__\u001b[0;34m(self, src, edge_index, dim)\u001b[0m\n\u001b[1;32m    139\u001b[0m         \u001b[0;32mif\u001b[0m \u001b[0misinstance\u001b[0m\u001b[0;34m(\u001b[0m\u001b[0medge_index\u001b[0m\u001b[0;34m,\u001b[0m \u001b[0mTensor\u001b[0m\u001b[0;34m)\u001b[0m\u001b[0;34m:\u001b[0m\u001b[0;34m\u001b[0m\u001b[0;34m\u001b[0m\u001b[0m\n\u001b[1;32m    140\u001b[0m             \u001b[0mindex\u001b[0m \u001b[0;34m=\u001b[0m \u001b[0medge_index\u001b[0m\u001b[0;34m[\u001b[0m\u001b[0mdim\u001b[0m\u001b[0;34m]\u001b[0m\u001b[0;34m\u001b[0m\u001b[0;34m\u001b[0m\u001b[0m\n\u001b[0;32m--> 141\u001b[0;31m             \u001b[0;32mreturn\u001b[0m \u001b[0msrc\u001b[0m\u001b[0;34m.\u001b[0m\u001b[0mindex_select\u001b[0m\u001b[0;34m(\u001b[0m\u001b[0mself\u001b[0m\u001b[0;34m.\u001b[0m\u001b[0mnode_dim\u001b[0m\u001b[0;34m,\u001b[0m \u001b[0mindex\u001b[0m\u001b[0;34m)\u001b[0m\u001b[0;34m\u001b[0m\u001b[0;34m\u001b[0m\u001b[0m\n\u001b[0m\u001b[1;32m    142\u001b[0m         \u001b[0;32melif\u001b[0m \u001b[0misinstance\u001b[0m\u001b[0;34m(\u001b[0m\u001b[0medge_index\u001b[0m\u001b[0;34m,\u001b[0m \u001b[0mSparseTensor\u001b[0m\u001b[0;34m)\u001b[0m\u001b[0;34m:\u001b[0m\u001b[0;34m\u001b[0m\u001b[0;34m\u001b[0m\u001b[0m\n\u001b[1;32m    143\u001b[0m             \u001b[0;32mif\u001b[0m \u001b[0mdim\u001b[0m \u001b[0;34m==\u001b[0m \u001b[0;36m1\u001b[0m\u001b[0;34m:\u001b[0m\u001b[0;34m\u001b[0m\u001b[0;34m\u001b[0m\u001b[0m\n",
      "\u001b[0;31mIndexError\u001b[0m: index out of range in self"
     ]
    }
   ],
   "source": [
    "with open('configs.json') as f:\n",
    "    json_config = json.load(f)\n",
    "    \n",
    "json_config['devign']['model']['conv_args']['conv1d_1']['in_channels'] = nodes_dim\n",
    "json_config['embed']['nodes_dim']  = nodes_dim\n",
    "json_config['devign']['model']['emb_size']  = w2v_size\n",
    "json_config['embed']['word2vec_args']['size']  = w2v_size\n",
    "\n",
    "with open('configs.json', 'w') as f:\n",
    "    json.dump(json_config,f, indent=4)\n",
    "    \n",
    "    \n",
    "'''idx = [True if row['input'].x.shape[0]<=nodes_dim else False for index, row in data.iterrows()]\n",
    "data = data[idx]\n",
    "\n",
    "    \n",
    "data['input'] = data['input'].apply(lambda x: pad_x(x, nodes_dim, w2v_size) )'''\n",
    "data['input'] = data['input'].apply(lambda x: pad_x_keep(x, nodes_dim, w2v_size) )\n",
    "\n",
    "PATHS = configs.Paths()\n",
    "FILES = configs.Files()\n",
    "DEVICE = FILES.get_device()\n",
    "\n",
    "context = configs.Process()\n",
    "devign = configs.Devign()\n",
    "model_path = PATHS.model + FILES.model\n",
    "\n",
    "model = process.Devign(path=model_path, device=DEVICE, model=devign.model, learning_rate=devign.learning_rate,\n",
    "                       weight_decay=devign.weight_decay,\n",
    "                       loss_lambda=devign.loss_lambda)\n",
    "train = process.Train(model, context.epochs)\n",
    "input_dataset = data[[\"input\", \"target\"]]\n",
    "# split the dataset and pass to DataLoader with batch size\n",
    "train_loader, val_loader, test_loader = list(\n",
    "    map(lambda x: x.get_loader(context.batch_size, shuffle=context.shuffle),\n",
    "        data_util.train_val_test_split(input_dataset, shuffle=context.shuffle)))\n",
    "train_loader_step = process.LoaderStep(\"Train\", train_loader, DEVICE)\n",
    "val_loader_step = process.LoaderStep(\"Validation\", val_loader, DEVICE)\n",
    "train(train_loader_step, val_loader_step)\n",
    "print('Finish Training for {}'.format(name))\n",
    "spinner.stop()\n",
    "spinner.clear()"
   ]
  },
  {
   "cell_type": "code",
   "execution_count": 212,
   "id": "18b7bbc1",
   "metadata": {},
   "outputs": [],
   "source": [
    "import numpy as np"
   ]
  },
  {
   "cell_type": "markdown",
   "id": "b1913da5",
   "metadata": {},
   "source": [
    "# Other"
   ]
  },
  {
   "cell_type": "markdown",
   "id": "68ced314",
   "metadata": {},
   "source": [
    "### Start: c2cfg code for new_dataset build with 11k negative and 10.9k positive samples"
   ]
  },
  {
   "cell_type": "code",
   "execution_count": null,
   "id": "f5ee2d0c",
   "metadata": {},
   "outputs": [],
   "source": [
    "import pathlib, glob, time, subprocess\n",
    "import pandas as pd\n",
    "from pathlib import Path\n",
    "from tqdm.auto import tqdm\n",
    "import networkx as nx\n",
    "import scipy.sparse as sp\n",
    "import numpy as np\n",
    "\n",
    "\n",
    "graph_type = 'cfg'\n",
    "path_code = pathlib.Path('new_dataset_update/')                       \n",
    "joern_path = '/home/ammar/vuln_code/joern-cli/'\n",
    "\n",
    "# iterate over each group/project\n",
    "for folder in tqdm(glob.glob('{}/*'.format(path_code))):\n",
    "    if graph_type not in folder and Path(folder).is_dir():\n",
    "        print(folder)\n",
    "        path_group = pathlib.Path('{}_{}'.format(folder,graph_type))         #make folder for the dataset\n",
    "        path_group.mkdir(parents=True, exist_ok=True)\n",
    "    \n",
    "        start_time = time.time()\n",
    "\n",
    "        project = glob.glob(folder+'/*')                  #get all .c files we just generated\n",
    "\n",
    "        for path_src in tqdm(project):\n",
    "            src_file      = str(Path(path_src).resolve())\n",
    "            out_path      = str(Path(str(path_group)+'/'+path_src.split('/')[-1].replace('.c','')).resolve())+\"/\"\n",
    "            file_dir      = pathlib.Path(str(Path(str(path_group)+'/'+path_src.split('/')[-1].replace('.c','')).resolve())+\"/\")         #make folder for the dataset\n",
    "            file_dir.mkdir(parents=True, exist_ok=True)\n",
    "\n",
    "            cpg_path_cmd  = [joern_path+\"./joern-parse\",src_file,\"--out\",out_path+src_file.split(\"/\")[-1].replace(\".c\",\"\")+\".cpg\"]\n",
    "            graph_out_cmd = [joern_path+\"joern-export\",out_path+src_file.split(\"/\")[-1].replace(\".c\",\"\")+'.cpg',\"--repr\",graph_type,'--out',out_path+'/cfg/']\n",
    "            cpg_check     = Path(out_path+src_file.split(\"/\")[-1].replace(\".c\",\"\")+\".cpg\").is_file()\n",
    "            \n",
    "            pth = pathlib.Path(str(Path(str(path_group)+'/'+path_src.split('/')[-1].replace('.c','')).resolve())+\"/\")\n",
    "            if cpg_check and not Path(out_path+'cfg/').is_dir():\n",
    "                result = subprocess.call(graph_out_cmd,stderr=subprocess.DEVNULL, stdout=subprocess.DEVNULL)\n",
    "\n",
    "            # check if CFG and both CPG are present if true nothing will be generated\n",
    "            elif cpg_check and Path(out_path+'cfg/').is_dir():\n",
    "                pass\n",
    "\n",
    "            else:\n",
    "            #if both of them all false compute CPG and generate CFG \n",
    "                result = subprocess.call(cpg_path_cmd,stderr=subprocess.DEVNULL, stdout=subprocess.DEVNULL)\n",
    "\n",
    "                result1 = subprocess.call(graph_out_cmd, stderr=subprocess.DEVNULL, stdout=subprocess.DEVNULL)\n",
    "                \n",
    "            with open(out_path+pth.name+'.c', 'w') as f, open(src_file, 'r') as f1:\n",
    "                f.write(f1.read())\n",
    "\n",
    "        print(\"--- %s miuntes ---\" % ((time.time() - start_time)/60))"
   ]
  },
  {
   "cell_type": "markdown",
   "id": "a80d70ba",
   "metadata": {},
   "source": [
    "### End"
   ]
  },
  {
   "cell_type": "code",
   "execution_count": null,
   "id": "d88bd0d3",
   "metadata": {},
   "outputs": [],
   "source": [
    "\n",
    "\n",
    "\n",
    "\n",
    "\n",
    "\n",
    "\n",
    "check_empty  ='digraph .*\\{ *\\n*\\}' #to check if generated CFG is empty or not\n",
    "pd_list = []\n",
    "dict_e = {}\n",
    "path_code = 'dataset_mini' #I have changed the name\n",
    "project_path = glob.glob(path_code+\"/*_cfg\")\n",
    "for i in tqdm(project_path):\n",
    "    path = pathlib.PurePath(i)\n",
    "    project_name = path.name \n",
    "    project = glob.glob(i+'/*')\n",
    "    dict_e[i+' total'] = len(project)\n",
    "    dict_e[i+' removed'] = 0\n",
    "    for path_src in tqdm(project, 'total files'):\n",
    "        #print(path_src)\n",
    "        new_dict   = dict()\n",
    "        src_file   = str(Path(path_src+'/'+pathlib.PurePath(path_src).name+'.c').resolve())\n",
    "        cfg_folder = str(Path(path_src+'/'+'cfg/').resolve())\n",
    "        index      = int(pathlib.PurePath(src_file).name.replace(\".c\",\"\"))\n",
    "        target     = project_name.split('_')[0]\n",
    "        src_file   =  str(Path(os.path.join('', *[path_code,target,str(index)+'_c.c'])).resolve())\n",
    "        #print('{}- {}- {}- {}- {}'.format(path_src, cfg_folder,index,target,src_file))\n",
    "        with open(src_file, 'r') as f:\n",
    "            src_code = f.read()\n",
    "        dot_arr = []\n",
    "        for file in glob.glob(cfg_folder+\"/*\"):\n",
    "            with open(file,'r') as f:\n",
    "                dot_arr.append(f.read())\n",
    "        dot_arr = [x for x in dot_arr if not re.search(check_empty, x)] # removes empty graphs\n",
    "        if (len(dot_arr) == 1):                                         #if graph is not empty and is connected\n",
    "            is_connected = True\n",
    "            #G = nx.Graph(nx.drawing.nx_pydot.read_dot(Path(cfg_folder).joinpath(\"0-cfg.dot\")))\n",
    "            try:\n",
    "                with open(Path(cfg_folder).joinpath(\"0-cfg.dot\")) as f:\n",
    "                    dotFormat = f.read()\n",
    "                new_str = dotFormat.replace('\\\\\"', '')                       #To catch escape characters\n",
    "                new_str = \"\\n\".join([f_str.strip() for f_str in dotFormat.split('\\n')])\n",
    "                G = nx.drawing.nx_agraph.from_agraph(pygraphviz.AGraph(new_str)); #convert graph into Networkx object\n",
    "                new_dict['index']         = index\n",
    "                new_dict['project']       = project_name\n",
    "                new_dict['func_code']     = src_code\n",
    "                new_dict['graph']         = G\n",
    "                new_dict['is_connected']  = is_connected\n",
    "                new_dict['dot_string']    = new_str\n",
    "                if target=='positive':\n",
    "                    new_dict['target']        = 1\n",
    "                elif target =='negative':\n",
    "                    new_dict['target']        = 0\n",
    "                pd_list.append(new_dict)\n",
    "            except ValueError as e:\n",
    "                dict_e[i+' removed'] += 1\n",
    "                pass\n",
    "            \n",
    "        dict_e[i+' used'] = dict_e[i+' total'] - dict_e[i+' removed']\n",
    "        \n",
    "\n",
    "print(json.dumps(dict_e, indent=4))\n",
    "data = pd.DataFrame(pd_list)\n",
    "data = data[['target', 'project', 'graph','func_code','index']]\n",
    "data = data.rename(columns={'func_code': 'func'})\n",
    "print('tokenizing code')\n",
    "tokens_dataset = data_util.tokenize(data)\n",
    "spinner = Halo(text='Training word2vec on tokens code', spinner='dots')\n",
    "w2vmodel = Word2Vec(**word2vec_args)\n",
    "w2vmodel.build_vocab(tokens_dataset.tokens)\n",
    "w2vmodel.train(tokens_dataset.tokens, total_examples=w2vmodel.corpus_count, epochs=1)\n",
    "spinner.stop()\n",
    "print(\"Saving w2vmodel.\")\n",
    "w2vmodel.save(\"word2vec.model\")\n",
    "\n",
    "print(\"No of samples in dataset: {} \".format(len(data)))\n",
    "print('\\n'*3,\"*\"*40,'\\n')\n",
    "\n",
    "node_size_group = data.apply(lambda g: nx.number_of_nodes(g.graph),axis=1).describe()[['min', 'max','mean','std']]\n",
    "\n",
    "print(tabulate(node_size_group.to_frame(),\n",
    "               tablefmt=\"grid\", stralign='left', numalign='left',\n",
    "               headers=['Node stats']))\n",
    "\n",
    "\n",
    "print('\\n'*3)\n",
    "\n",
    "edge_size_group = data.apply(lambda g: nx.number_of_edges(g.graph),axis=1).describe()[['min', 'max','mean','std']]\n",
    "print(tabulate(edge_size_group.to_frame(),\n",
    "                   tablefmt=\"grid\", stralign='left', numalign='left',\n",
    "                   headers=['Edge stats']))\n",
    "\n",
    "print('\\n\\n')\n",
    "print(\"1 = Vulnerable, 0 = Not Vulnerable\")\n",
    "print('\\n')\n",
    "for name, group in data.groupby('target'):\n",
    "    \n",
    "    edge_size_group = group.apply(lambda g: nx.number_of_edges(g.graph),axis=1).describe()[['min', 'max','mean','std']]\n",
    "    node_size_group = group.apply(lambda g: nx.number_of_nodes(g.graph),axis=1).describe()[['min', 'max','mean','std']]\n",
    "    \n",
    "    print(tabulate(node_size_group.to_frame(),\n",
    "               tablefmt=\"grid\", stralign='left', numalign='left',\n",
    "               headers=['Class {} Node stats'.format(name)]))\n",
    "    \n",
    "    print('\\n'*3)\n",
    "    print(tabulate(edge_size_group.to_frame(),\n",
    "                   tablefmt=\"grid\", stralign='left', numalign='left',\n",
    "                   headers=['Class {} Edge stats'.format(name)]))\n",
    "    print('\\n'*3)\n",
    "    \n",
    "\n",
    "\n",
    "data[\"input\"] = data.apply(lambda row: nodes_to_input(row.graph, row.target, nx.number_of_nodes(row.graph),\n",
    "                                                                                    w2vmodel.wv), axis=1)\n",
    "print('Writing to file/pandas')\n",
    "pd.to_pickle(data[['input','target']], 'new_data_mini')"
   ]
  },
  {
   "cell_type": "code",
   "execution_count": 205,
   "id": "8e577025",
   "metadata": {},
   "outputs": [],
   "source": [
    "Word2Vec?"
   ]
  },
  {
   "cell_type": "code",
   "execution_count": 106,
   "id": "558115aa",
   "metadata": {},
   "outputs": [],
   "source": [
    "dataset = np.arange(100)"
   ]
  },
  {
   "cell_type": "code",
   "execution_count": 110,
   "id": "dcdded92",
   "metadata": {},
   "outputs": [],
   "source": [
    "n = (100 + 9) // 10"
   ]
  },
  {
   "cell_type": "code",
   "execution_count": 108,
   "id": "b4f31487",
   "metadata": {},
   "outputs": [
    {
     "data": {
      "text/plain": [
       "10.9"
      ]
     },
     "execution_count": 108,
     "metadata": {},
     "output_type": "execute_result"
    }
   ],
   "source": [
    "109/10"
   ]
  },
  {
   "cell_type": "code",
   "execution_count": 117,
   "id": "45d0a7da",
   "metadata": {},
   "outputs": [
    {
     "data": {
      "text/plain": [
       "array([0, 1, 2, 3, 4, 5, 6, 7, 8, 9])"
      ]
     },
     "execution_count": 117,
     "metadata": {},
     "output_type": "execute_result"
    }
   ],
   "source": [
    "dataset[:n]"
   ]
  },
  {
   "cell_type": "code",
   "execution_count": 118,
   "id": "81102ce7",
   "metadata": {},
   "outputs": [
    {
     "data": {
      "text/plain": [
       "array([10, 11, 12, 13, 14, 15, 16, 17, 18, 19])"
      ]
     },
     "execution_count": 118,
     "metadata": {},
     "output_type": "execute_result"
    }
   ],
   "source": [
    "dataset[n:2 * n]"
   ]
  },
  {
   "cell_type": "code",
   "execution_count": 116,
   "id": "b521ceea",
   "metadata": {},
   "outputs": [
    {
     "data": {
      "text/plain": [
       "array([20, 21, 22, 23, 24, 25, 26, 27, 28, 29, 30, 31, 32, 33, 34, 35, 36,\n",
       "       37, 38, 39, 40, 41, 42, 43, 44, 45, 46, 47, 48, 49, 50, 51, 52, 53,\n",
       "       54, 55, 56, 57, 58, 59, 60, 61, 62, 63, 64, 65, 66, 67, 68, 69, 70,\n",
       "       71, 72, 73, 74, 75, 76, 77, 78, 79, 80, 81, 82, 83, 84, 85, 86, 87,\n",
       "       88, 89, 90, 91, 92, 93, 94, 95, 96, 97, 98, 99])"
      ]
     },
     "execution_count": 116,
     "metadata": {},
     "output_type": "execute_result"
    }
   ],
   "source": [
    "dataset[2 * n:]"
   ]
  },
  {
   "cell_type": "code",
   "execution_count": null,
   "id": "e951a5b5",
   "metadata": {},
   "outputs": [],
   "source": []
  }
 ],
 "metadata": {
  "kernelspec": {
   "display_name": "Python 3 (ipykernel)",
   "language": "python",
   "name": "python3"
  },
  "language_info": {
   "codemirror_mode": {
    "name": "ipython",
    "version": 3
   },
   "file_extension": ".py",
   "mimetype": "text/x-python",
   "name": "python",
   "nbconvert_exporter": "python",
   "pygments_lexer": "ipython3",
   "version": "3.9.5"
  }
 },
 "nbformat": 4,
 "nbformat_minor": 5
}
